{
 "cells": [
  {
   "cell_type": "markdown",
   "metadata": {},
   "source": [
    "# MACHINE LEARNING CLASSIFICATION AND COMPARISONS\n",
    "\n",
    "This notebook we have used 6 different ML classifiers and compared them to find the best one that can accurately classify our malicious dataset."
   ]
  },
  {
   "cell_type": "markdown",
   "metadata": {},
   "source": [
    "## Installing some libraries."
   ]
  },
  {
   "cell_type": "code",
   "execution_count": 1,
   "metadata": {
    "colab": {
     "base_uri": "https://localhost:8080/",
     "height": 923
    },
    "colab_type": "code",
    "id": "qr2UdY33jeUQ",
    "outputId": "067623f2-6e7e-46d3-a548-47728b9f4d7c"
   },
   "outputs": [
    {
     "name": "stdout",
     "output_type": "stream",
     "text": [
      "Requirement already satisfied: smote_variants in /Users/rahulbanerjee/opt/anaconda3/lib/python3.8/site-packages (0.4.0)\n",
      "Requirement already satisfied: scipy in /Users/rahulbanerjee/opt/anaconda3/lib/python3.8/site-packages (from smote_variants) (1.5.2)\n",
      "Requirement already satisfied: tensorflow in /Users/rahulbanerjee/opt/anaconda3/lib/python3.8/site-packages (from smote_variants) (2.6.0)\n",
      "Requirement already satisfied: mkl in /Users/rahulbanerjee/opt/anaconda3/lib/python3.8/site-packages (from smote_variants) (2021.4.0)\n",
      "Requirement already satisfied: joblib in /Users/rahulbanerjee/opt/anaconda3/lib/python3.8/site-packages (from smote_variants) (0.17.0)\n",
      "Requirement already satisfied: statistics in /Users/rahulbanerjee/opt/anaconda3/lib/python3.8/site-packages (from smote_variants) (1.0.3.5)\n",
      "Requirement already satisfied: minisom in /Users/rahulbanerjee/opt/anaconda3/lib/python3.8/site-packages (from smote_variants) (2.2.9)\n",
      "Requirement already satisfied: pandas in /Users/rahulbanerjee/opt/anaconda3/lib/python3.8/site-packages (from smote_variants) (1.1.3)\n",
      "Requirement already satisfied: keras in /Users/rahulbanerjee/opt/anaconda3/lib/python3.8/site-packages (from smote_variants) (2.6.0)\n",
      "Requirement already satisfied: numpy>=1.13.0 in /Users/rahulbanerjee/opt/anaconda3/lib/python3.8/site-packages (from smote_variants) (1.19.2)\n",
      "Requirement already satisfied: scikit-learn in /Users/rahulbanerjee/opt/anaconda3/lib/python3.8/site-packages (from smote_variants) (0.23.2)\n",
      "Requirement already satisfied: six~=1.15.0 in /Users/rahulbanerjee/opt/anaconda3/lib/python3.8/site-packages (from tensorflow->smote_variants) (1.15.0)\n",
      "Requirement already satisfied: wheel~=0.35 in /Users/rahulbanerjee/opt/anaconda3/lib/python3.8/site-packages (from tensorflow->smote_variants) (0.35.1)\n",
      "Requirement already satisfied: absl-py~=0.10 in /Users/rahulbanerjee/opt/anaconda3/lib/python3.8/site-packages (from tensorflow->smote_variants) (0.15.0)\n",
      "Requirement already satisfied: tensorflow-estimator~=2.6 in /Users/rahulbanerjee/opt/anaconda3/lib/python3.8/site-packages (from tensorflow->smote_variants) (2.6.0)\n",
      "Requirement already satisfied: grpcio<2.0,>=1.37.0 in /Users/rahulbanerjee/opt/anaconda3/lib/python3.8/site-packages (from tensorflow->smote_variants) (1.41.0)\n",
      "Requirement already satisfied: google-pasta~=0.2 in /Users/rahulbanerjee/opt/anaconda3/lib/python3.8/site-packages (from tensorflow->smote_variants) (0.2.0)\n",
      "Requirement already satisfied: clang~=5.0 in /Users/rahulbanerjee/opt/anaconda3/lib/python3.8/site-packages (from tensorflow->smote_variants) (5.0)\n",
      "Requirement already satisfied: protobuf>=3.9.2 in /Users/rahulbanerjee/opt/anaconda3/lib/python3.8/site-packages (from tensorflow->smote_variants) (3.17.0)\n",
      "Requirement already satisfied: wrapt~=1.12.1 in /Users/rahulbanerjee/opt/anaconda3/lib/python3.8/site-packages (from tensorflow->smote_variants) (1.12.1)\n",
      "Requirement already satisfied: flatbuffers~=1.12.0 in /Users/rahulbanerjee/opt/anaconda3/lib/python3.8/site-packages (from tensorflow->smote_variants) (1.12)\n",
      "Requirement already satisfied: keras-preprocessing~=1.1.2 in /Users/rahulbanerjee/opt/anaconda3/lib/python3.8/site-packages (from tensorflow->smote_variants) (1.1.2)\n",
      "Requirement already satisfied: astunparse~=1.6.3 in /Users/rahulbanerjee/opt/anaconda3/lib/python3.8/site-packages (from tensorflow->smote_variants) (1.6.3)\n",
      "Requirement already satisfied: opt-einsum~=3.3.0 in /Users/rahulbanerjee/opt/anaconda3/lib/python3.8/site-packages (from tensorflow->smote_variants) (3.3.0)\n",
      "Requirement already satisfied: termcolor~=1.1.0 in /Users/rahulbanerjee/opt/anaconda3/lib/python3.8/site-packages (from tensorflow->smote_variants) (1.1.0)\n",
      "Requirement already satisfied: h5py~=3.1.0 in /Users/rahulbanerjee/opt/anaconda3/lib/python3.8/site-packages (from tensorflow->smote_variants) (3.1.0)\n",
      "Requirement already satisfied: typing-extensions~=3.7.4 in /Users/rahulbanerjee/opt/anaconda3/lib/python3.8/site-packages (from tensorflow->smote_variants) (3.7.4.3)\n",
      "Requirement already satisfied: gast==0.4.0 in /Users/rahulbanerjee/opt/anaconda3/lib/python3.8/site-packages (from tensorflow->smote_variants) (0.4.0)\n",
      "Requirement already satisfied: tensorboard~=2.6 in /Users/rahulbanerjee/opt/anaconda3/lib/python3.8/site-packages (from tensorflow->smote_variants) (2.7.0)\n",
      "Requirement already satisfied: intel-openmp==2021.* in /Users/rahulbanerjee/opt/anaconda3/lib/python3.8/site-packages (from mkl->smote_variants) (2021.4.0)\n",
      "Requirement already satisfied: tbb==2021.* in /Users/rahulbanerjee/opt/anaconda3/lib/python3.8/site-packages (from mkl->smote_variants) (2021.4.0)\n",
      "Requirement already satisfied: docutils>=0.3 in /Users/rahulbanerjee/opt/anaconda3/lib/python3.8/site-packages (from statistics->smote_variants) (0.16)\n",
      "Requirement already satisfied: pytz>=2017.2 in /Users/rahulbanerjee/opt/anaconda3/lib/python3.8/site-packages (from pandas->smote_variants) (2020.1)\n",
      "Requirement already satisfied: python-dateutil>=2.7.3 in /Users/rahulbanerjee/opt/anaconda3/lib/python3.8/site-packages (from pandas->smote_variants) (2.8.1)\n",
      "Requirement already satisfied: threadpoolctl>=2.0.0 in /Users/rahulbanerjee/opt/anaconda3/lib/python3.8/site-packages (from scikit-learn->smote_variants) (2.1.0)\n",
      "Requirement already satisfied: setuptools>=41.0.0 in /Users/rahulbanerjee/opt/anaconda3/lib/python3.8/site-packages (from tensorboard~=2.6->tensorflow->smote_variants) (50.3.1.post20201107)\n",
      "Requirement already satisfied: google-auth<3,>=1.6.3 in /Users/rahulbanerjee/opt/anaconda3/lib/python3.8/site-packages (from tensorboard~=2.6->tensorflow->smote_variants) (2.3.0)\n",
      "Requirement already satisfied: markdown>=2.6.8 in /Users/rahulbanerjee/opt/anaconda3/lib/python3.8/site-packages (from tensorboard~=2.6->tensorflow->smote_variants) (3.3.4)\n",
      "Requirement already satisfied: requests<3,>=2.21.0 in /Users/rahulbanerjee/opt/anaconda3/lib/python3.8/site-packages (from tensorboard~=2.6->tensorflow->smote_variants) (2.24.0)\n",
      "Requirement already satisfied: tensorboard-plugin-wit>=1.6.0 in /Users/rahulbanerjee/opt/anaconda3/lib/python3.8/site-packages (from tensorboard~=2.6->tensorflow->smote_variants) (1.8.0)\n",
      "Requirement already satisfied: google-auth-oauthlib<0.5,>=0.4.1 in /Users/rahulbanerjee/opt/anaconda3/lib/python3.8/site-packages (from tensorboard~=2.6->tensorflow->smote_variants) (0.4.6)\n",
      "Requirement already satisfied: tensorboard-data-server<0.7.0,>=0.6.0 in /Users/rahulbanerjee/opt/anaconda3/lib/python3.8/site-packages (from tensorboard~=2.6->tensorflow->smote_variants) (0.6.1)\n",
      "Requirement already satisfied: werkzeug>=0.11.15 in /Users/rahulbanerjee/opt/anaconda3/lib/python3.8/site-packages (from tensorboard~=2.6->tensorflow->smote_variants) (1.0.1)\n",
      "Requirement already satisfied: cachetools<5.0,>=2.0.0 in /Users/rahulbanerjee/opt/anaconda3/lib/python3.8/site-packages (from google-auth<3,>=1.6.3->tensorboard~=2.6->tensorflow->smote_variants) (4.2.4)\n",
      "Requirement already satisfied: rsa<5,>=3.1.4 in /Users/rahulbanerjee/opt/anaconda3/lib/python3.8/site-packages (from google-auth<3,>=1.6.3->tensorboard~=2.6->tensorflow->smote_variants) (4.7.2)\n",
      "Requirement already satisfied: pyasn1-modules>=0.2.1 in /Users/rahulbanerjee/opt/anaconda3/lib/python3.8/site-packages (from google-auth<3,>=1.6.3->tensorboard~=2.6->tensorflow->smote_variants) (0.2.8)\n",
      "Requirement already satisfied: urllib3!=1.25.0,!=1.25.1,<1.26,>=1.21.1 in /Users/rahulbanerjee/opt/anaconda3/lib/python3.8/site-packages (from requests<3,>=2.21.0->tensorboard~=2.6->tensorflow->smote_variants) (1.25.10)\n",
      "Requirement already satisfied: chardet<4,>=3.0.2 in /Users/rahulbanerjee/opt/anaconda3/lib/python3.8/site-packages (from requests<3,>=2.21.0->tensorboard~=2.6->tensorflow->smote_variants) (3.0.4)\n",
      "Requirement already satisfied: idna<3,>=2.5 in /Users/rahulbanerjee/opt/anaconda3/lib/python3.8/site-packages (from requests<3,>=2.21.0->tensorboard~=2.6->tensorflow->smote_variants) (2.10)\n",
      "Requirement already satisfied: certifi>=2017.4.17 in /Users/rahulbanerjee/opt/anaconda3/lib/python3.8/site-packages (from requests<3,>=2.21.0->tensorboard~=2.6->tensorflow->smote_variants) (2020.6.20)\n",
      "Requirement already satisfied: requests-oauthlib>=0.7.0 in /Users/rahulbanerjee/opt/anaconda3/lib/python3.8/site-packages (from google-auth-oauthlib<0.5,>=0.4.1->tensorboard~=2.6->tensorflow->smote_variants) (1.3.0)\n",
      "Requirement already satisfied: pyasn1>=0.1.3 in /Users/rahulbanerjee/opt/anaconda3/lib/python3.8/site-packages (from rsa<5,>=3.1.4->google-auth<3,>=1.6.3->tensorboard~=2.6->tensorflow->smote_variants) (0.4.8)\n",
      "Requirement already satisfied: oauthlib>=3.0.0 in /Users/rahulbanerjee/opt/anaconda3/lib/python3.8/site-packages (from requests-oauthlib>=0.7.0->google-auth-oauthlib<0.5,>=0.4.1->tensorboard~=2.6->tensorflow->smote_variants) (3.1.1)\n"
     ]
    },
    {
     "name": "stdout",
     "output_type": "stream",
     "text": [
      "Note: you may need to restart the kernel to use updated packages.\n"
     ]
    }
   ],
   "source": [
    "pip install smote_variants"
   ]
  },
  {
   "cell_type": "code",
   "execution_count": 2,
   "metadata": {
    "colab": {
     "base_uri": "https://localhost:8080/",
     "height": 191
    },
    "colab_type": "code",
    "id": "7czY2ZsRLL2q",
    "outputId": "04b9f2fb-8e2d-4e74-a7c3-00c7d6e764cf"
   },
   "outputs": [
    {
     "name": "stdout",
     "output_type": "stream",
     "text": [
      "Collecting imbalanced_databases\n",
      "  Downloading imbalanced_databases-0.1.1-py3-none-any.whl (4.3 MB)\n",
      "\u001b[K     |████████████████████████████████| 4.3 MB 1.9 MB/s eta 0:00:01\n",
      "\u001b[?25hRequirement already satisfied: pandas in /Users/rahulbanerjee/opt/anaconda3/lib/python3.8/site-packages (from imbalanced_databases) (1.1.3)\n",
      "Requirement already satisfied: numpy in /Users/rahulbanerjee/opt/anaconda3/lib/python3.8/site-packages (from imbalanced_databases) (1.19.2)\n",
      "Requirement already satisfied: scipy in /Users/rahulbanerjee/opt/anaconda3/lib/python3.8/site-packages (from imbalanced_databases) (1.5.2)\n",
      "Collecting sklearn\n",
      "  Downloading sklearn-0.0.tar.gz (1.1 kB)\n",
      "Requirement already satisfied: python-dateutil>=2.7.3 in /Users/rahulbanerjee/opt/anaconda3/lib/python3.8/site-packages (from pandas->imbalanced_databases) (2.8.1)\n",
      "Requirement already satisfied: pytz>=2017.2 in /Users/rahulbanerjee/opt/anaconda3/lib/python3.8/site-packages (from pandas->imbalanced_databases) (2020.1)\n",
      "Requirement already satisfied: scikit-learn in /Users/rahulbanerjee/opt/anaconda3/lib/python3.8/site-packages (from sklearn->imbalanced_databases) (0.23.2)\n",
      "Requirement already satisfied: six>=1.5 in /Users/rahulbanerjee/opt/anaconda3/lib/python3.8/site-packages (from python-dateutil>=2.7.3->pandas->imbalanced_databases) (1.15.0)\n",
      "Requirement already satisfied: threadpoolctl>=2.0.0 in /Users/rahulbanerjee/opt/anaconda3/lib/python3.8/site-packages (from scikit-learn->sklearn->imbalanced_databases) (2.1.0)\n",
      "Requirement already satisfied: joblib>=0.11 in /Users/rahulbanerjee/opt/anaconda3/lib/python3.8/site-packages (from scikit-learn->sklearn->imbalanced_databases) (0.17.0)\n",
      "Building wheels for collected packages: sklearn\n",
      "  Building wheel for sklearn (setup.py) ... \u001b[?25ldone\n",
      "\u001b[?25h  Created wheel for sklearn: filename=sklearn-0.0-py2.py3-none-any.whl size=1316 sha256=224f552b4e33e8e0a4b4ff0566a6b76c3b03ae1181413bd47c14ecd4d2a27b6f\n",
      "  Stored in directory: /Users/rahulbanerjee/Library/Caches/pip/wheels/22/0b/40/fd3f795caaa1fb4c6cb738bc1f56100be1e57da95849bfc897\n",
      "Successfully built sklearn\n",
      "Installing collected packages: sklearn, imbalanced-databases\n",
      "Successfully installed imbalanced-databases-0.1.1 sklearn-0.0\n",
      "Note: you may need to restart the kernel to use updated packages.\n"
     ]
    }
   ],
   "source": [
    "pip install imbalanced_databases"
   ]
  },
  {
   "cell_type": "code",
   "execution_count": 3,
   "metadata": {
    "colab": {
     "base_uri": "https://localhost:8080/",
     "height": 104
    },
    "colab_type": "code",
    "id": "b4FUTDEnT0qp",
    "outputId": "7f7cb1ac-bceb-4b6f-ed36-3bfe1102c954"
   },
   "outputs": [
    {
     "name": "stdout",
     "output_type": "stream",
     "text": [
      "Collecting imbalanced-learn\n",
      "  Downloading imbalanced_learn-0.8.1-py3-none-any.whl (189 kB)\n",
      "\u001b[K     |████████████████████████████████| 189 kB 5.2 MB/s eta 0:00:01\n",
      "\u001b[?25hRequirement already satisfied: scipy>=0.19.1 in /Users/rahulbanerjee/opt/anaconda3/lib/python3.8/site-packages (from imbalanced-learn) (1.5.2)\n",
      "Requirement already satisfied: joblib>=0.11 in /Users/rahulbanerjee/opt/anaconda3/lib/python3.8/site-packages (from imbalanced-learn) (0.17.0)\n",
      "Requirement already satisfied: numpy>=1.13.3 in /Users/rahulbanerjee/opt/anaconda3/lib/python3.8/site-packages (from imbalanced-learn) (1.19.2)\n",
      "Collecting scikit-learn>=0.24\n",
      "  Downloading scikit_learn-1.0.1-cp38-cp38-macosx_10_13_x86_64.whl (7.9 MB)\n",
      "\u001b[K     |████████████████████████████████| 7.9 MB 6.7 MB/s eta 0:00:01\n",
      "\u001b[?25hRequirement already satisfied: threadpoolctl>=2.0.0 in /Users/rahulbanerjee/opt/anaconda3/lib/python3.8/site-packages (from scikit-learn>=0.24->imbalanced-learn) (2.1.0)\n",
      "Installing collected packages: scikit-learn, imbalanced-learn\n",
      "  Attempting uninstall: scikit-learn\n",
      "    Found existing installation: scikit-learn 0.23.2\n",
      "    Uninstalling scikit-learn-0.23.2:\n",
      "      Successfully uninstalled scikit-learn-0.23.2\n",
      "Successfully installed imbalanced-learn-0.8.1 scikit-learn-1.0.1\n",
      "Note: you may need to restart the kernel to use updated packages.\n"
     ]
    }
   ],
   "source": [
    "pip install imbalanced-learn"
   ]
  },
  {
   "cell_type": "markdown",
   "metadata": {},
   "source": [
    "## Importing libraries for our needs."
   ]
  },
  {
   "cell_type": "code",
   "execution_count": 5,
   "metadata": {
    "colab": {
     "base_uri": "https://localhost:8080/",
     "height": 106
    },
    "colab_type": "code",
    "id": "JnKWN9B2LHP4",
    "outputId": "4aa45710-ba59-4375-e38f-ea76c707a3bf"
   },
   "outputs": [],
   "source": [
    "import smote_variants as sv\n",
    "import pandas  as pd\n",
    "import matplotlib.pyplot as plt\n",
    "import numpy as np\n",
    "import imbalanced_databases as imbd\n",
    "from sklearn import metrics\n",
    "from sklearn.datasets import load_wine\n",
    "from sklearn.metrics import roc_curve, auc, roc_auc_score\n",
    "from sklearn.metrics import confusion_matrix\n",
    "from sklearn import metrics\n",
    "from sklearn.metrics import plot_roc_curve\n",
    "from imblearn.over_sampling import SMOTE\n",
    "\n",
    "%matplotlib inline\n",
    "from sklearn.model_selection import train_test_split"
   ]
  },
  {
   "cell_type": "markdown",
   "metadata": {},
   "source": [
    "## Reading the dataset to a dataframe."
   ]
  },
  {
   "cell_type": "code",
   "execution_count": 5,
   "metadata": {
    "colab": {
     "base_uri": "https://localhost:8080/",
     "height": 34
    },
    "colab_type": "code",
    "id": "K6gyDfH5PcxL",
    "outputId": "a3aa8059-3137-41cc-8971-cd751777b679"
   },
   "outputs": [
    {
     "name": "stdout",
     "output_type": "stream",
     "text": [
      "Drive already mounted at /content/drive; to attempt to forcibly remount, call drive.mount(\"/content/drive\", force_remount=True).\n"
     ]
    }
   ],
   "source": [
    "##from google.colab import drive\n",
    "##drive.mount('/content/drive')"
   ]
  },
  {
   "cell_type": "code",
   "execution_count": 6,
   "metadata": {
    "colab": {},
    "colab_type": "code",
    "id": "5i6xdA4nJ_Me"
   },
   "outputs": [],
   "source": [
    "df_train = pd.read_csv('ml_dataset.csv')"
   ]
  },
  {
   "cell_type": "code",
   "execution_count": 7,
   "metadata": {
    "colab": {},
    "colab_type": "code",
    "id": "rL13VhV0kb78"
   },
   "outputs": [],
   "source": [
    "df = df_train.copy()\n",
    "df.drop(['Unnamed: 0'],inplace=True,axis=1)"
   ]
  },
  {
   "cell_type": "code",
   "execution_count": 8,
   "metadata": {
    "colab": {},
    "colab_type": "code",
    "id": "32fIeDsCDP1T"
   },
   "outputs": [],
   "source": [
    "df_attack = df[df['attack'] == 1]"
   ]
  },
  {
   "cell_type": "code",
   "execution_count": 9,
   "metadata": {
    "colab": {},
    "colab_type": "code",
    "id": "7u0uBOUmDP4F"
   },
   "outputs": [],
   "source": [
    "df_normal = df[df['attack'] == 0]"
   ]
  },
  {
   "cell_type": "markdown",
   "metadata": {},
   "source": [
    "## Getting genral idea about the weight of available classification packets."
   ]
  },
  {
   "cell_type": "markdown",
   "metadata": {
    "colab_type": "text",
    "id": "j8XjHHFUbd4t"
   },
   "source": []
  },
  {
   "cell_type": "code",
   "execution_count": 10,
   "metadata": {
    "colab": {
     "base_uri": "https://localhost:8080/",
     "height": 226
    },
    "colab_type": "code",
    "id": "ILzX8RoAJ6vd",
    "outputId": "2d25b5da-dcc2-4ff7-9d0a-d6a58cecdee7"
   },
   "outputs": [
    {
     "data": {
      "text/html": [
       "<div>\n",
       "<style scoped>\n",
       "    .dataframe tbody tr th:only-of-type {\n",
       "        vertical-align: middle;\n",
       "    }\n",
       "\n",
       "    .dataframe tbody tr th {\n",
       "        vertical-align: top;\n",
       "    }\n",
       "\n",
       "    .dataframe thead th {\n",
       "        text-align: right;\n",
       "    }\n",
       "</style>\n",
       "<table border=\"1\" class=\"dataframe\">\n",
       "  <thead>\n",
       "    <tr style=\"text-align: right;\">\n",
       "      <th></th>\n",
       "      <th>pkts</th>\n",
       "      <th>bytes</th>\n",
       "      <th>dur</th>\n",
       "      <th>average_dur</th>\n",
       "      <th>stddev_dur</th>\n",
       "      <th>total_dur</th>\n",
       "      <th>min_dur</th>\n",
       "      <th>max_dur</th>\n",
       "      <th>spkts</th>\n",
       "      <th>dpkts</th>\n",
       "      <th>...</th>\n",
       "      <th>TnP_Per_Dport</th>\n",
       "      <th>AR_P_Proto_P_SrcIP</th>\n",
       "      <th>AR_P_Proto_P_DstIP</th>\n",
       "      <th>N_IN_Conn_P_DstIP</th>\n",
       "      <th>N_IN_Conn_P_SrcIP</th>\n",
       "      <th>AR_P_Proto_P_Sport</th>\n",
       "      <th>AR_P_Proto_P_Dport</th>\n",
       "      <th>Pkts_P_State_P_Protocol_P_DestIP</th>\n",
       "      <th>Pkts_P_State_P_Protocol_P_SrcIP</th>\n",
       "      <th>attack</th>\n",
       "    </tr>\n",
       "  </thead>\n",
       "  <tbody>\n",
       "    <tr>\n",
       "      <th>0</th>\n",
       "      <td>10</td>\n",
       "      <td>1729</td>\n",
       "      <td>6.406424</td>\n",
       "      <td>0.679473</td>\n",
       "      <td>0.544126</td>\n",
       "      <td>1.358946</td>\n",
       "      <td>0.135347</td>\n",
       "      <td>1.223599</td>\n",
       "      <td>6</td>\n",
       "      <td>4</td>\n",
       "      <td>...</td>\n",
       "      <td>700</td>\n",
       "      <td>1.26889</td>\n",
       "      <td>1.21662</td>\n",
       "      <td>40</td>\n",
       "      <td>38</td>\n",
       "      <td>1.56093</td>\n",
       "      <td>1.21662</td>\n",
       "      <td>328</td>\n",
       "      <td>308</td>\n",
       "      <td>1</td>\n",
       "    </tr>\n",
       "    <tr>\n",
       "      <th>1</th>\n",
       "      <td>10</td>\n",
       "      <td>1604</td>\n",
       "      <td>6.405851</td>\n",
       "      <td>0.679572</td>\n",
       "      <td>0.544197</td>\n",
       "      <td>1.359144</td>\n",
       "      <td>0.135375</td>\n",
       "      <td>1.223769</td>\n",
       "      <td>6</td>\n",
       "      <td>4</td>\n",
       "      <td>...</td>\n",
       "      <td>700</td>\n",
       "      <td>1.26889</td>\n",
       "      <td>1.21662</td>\n",
       "      <td>40</td>\n",
       "      <td>38</td>\n",
       "      <td>1.56107</td>\n",
       "      <td>1.21662</td>\n",
       "      <td>328</td>\n",
       "      <td>308</td>\n",
       "      <td>1</td>\n",
       "    </tr>\n",
       "    <tr>\n",
       "      <th>2</th>\n",
       "      <td>8</td>\n",
       "      <td>1708</td>\n",
       "      <td>6.401038</td>\n",
       "      <td>1.110847</td>\n",
       "      <td>1.110847</td>\n",
       "      <td>2.221694</td>\n",
       "      <td>0.000000</td>\n",
       "      <td>2.221694</td>\n",
       "      <td>5</td>\n",
       "      <td>3</td>\n",
       "      <td>...</td>\n",
       "      <td>700</td>\n",
       "      <td>1.26889</td>\n",
       "      <td>1.21662</td>\n",
       "      <td>40</td>\n",
       "      <td>38</td>\n",
       "      <td>1.24980</td>\n",
       "      <td>1.21662</td>\n",
       "      <td>328</td>\n",
       "      <td>308</td>\n",
       "      <td>1</td>\n",
       "    </tr>\n",
       "    <tr>\n",
       "      <th>3</th>\n",
       "      <td>8</td>\n",
       "      <td>1462</td>\n",
       "      <td>6.400703</td>\n",
       "      <td>1.113328</td>\n",
       "      <td>1.113328</td>\n",
       "      <td>2.226655</td>\n",
       "      <td>0.000000</td>\n",
       "      <td>2.226655</td>\n",
       "      <td>5</td>\n",
       "      <td>3</td>\n",
       "      <td>...</td>\n",
       "      <td>700</td>\n",
       "      <td>1.26889</td>\n",
       "      <td>1.21662</td>\n",
       "      <td>40</td>\n",
       "      <td>38</td>\n",
       "      <td>1.24986</td>\n",
       "      <td>1.21662</td>\n",
       "      <td>328</td>\n",
       "      <td>308</td>\n",
       "      <td>1</td>\n",
       "    </tr>\n",
       "    <tr>\n",
       "      <th>4</th>\n",
       "      <td>8</td>\n",
       "      <td>1296</td>\n",
       "      <td>6.400472</td>\n",
       "      <td>1.113098</td>\n",
       "      <td>1.113098</td>\n",
       "      <td>2.226195</td>\n",
       "      <td>0.000000</td>\n",
       "      <td>2.226195</td>\n",
       "      <td>5</td>\n",
       "      <td>3</td>\n",
       "      <td>...</td>\n",
       "      <td>700</td>\n",
       "      <td>1.26889</td>\n",
       "      <td>1.21662</td>\n",
       "      <td>40</td>\n",
       "      <td>38</td>\n",
       "      <td>1.24991</td>\n",
       "      <td>1.21662</td>\n",
       "      <td>328</td>\n",
       "      <td>308</td>\n",
       "      <td>1</td>\n",
       "    </tr>\n",
       "  </tbody>\n",
       "</table>\n",
       "<p>5 rows × 30 columns</p>\n",
       "</div>"
      ],
      "text/plain": [
       "   pkts  bytes       dur  average_dur  stddev_dur  total_dur   min_dur  \\\n",
       "0    10   1729  6.406424     0.679473    0.544126   1.358946  0.135347   \n",
       "1    10   1604  6.405851     0.679572    0.544197   1.359144  0.135375   \n",
       "2     8   1708  6.401038     1.110847    1.110847   2.221694  0.000000   \n",
       "3     8   1462  6.400703     1.113328    1.113328   2.226655  0.000000   \n",
       "4     8   1296  6.400472     1.113098    1.113098   2.226195  0.000000   \n",
       "\n",
       "    max_dur  spkts  dpkts  ...  TnP_Per_Dport  AR_P_Proto_P_SrcIP  \\\n",
       "0  1.223599      6      4  ...            700             1.26889   \n",
       "1  1.223769      6      4  ...            700             1.26889   \n",
       "2  2.221694      5      3  ...            700             1.26889   \n",
       "3  2.226655      5      3  ...            700             1.26889   \n",
       "4  2.226195      5      3  ...            700             1.26889   \n",
       "\n",
       "   AR_P_Proto_P_DstIP  N_IN_Conn_P_DstIP  N_IN_Conn_P_SrcIP  \\\n",
       "0             1.21662                 40                 38   \n",
       "1             1.21662                 40                 38   \n",
       "2             1.21662                 40                 38   \n",
       "3             1.21662                 40                 38   \n",
       "4             1.21662                 40                 38   \n",
       "\n",
       "   AR_P_Proto_P_Sport  AR_P_Proto_P_Dport  Pkts_P_State_P_Protocol_P_DestIP  \\\n",
       "0             1.56093             1.21662                               328   \n",
       "1             1.56107             1.21662                               328   \n",
       "2             1.24980             1.21662                               328   \n",
       "3             1.24986             1.21662                               328   \n",
       "4             1.24991             1.21662                               328   \n",
       "\n",
       "   Pkts_P_State_P_Protocol_P_SrcIP  attack  \n",
       "0                              308       1  \n",
       "1                              308       1  \n",
       "2                              308       1  \n",
       "3                              308       1  \n",
       "4                              308       1  \n",
       "\n",
       "[5 rows x 30 columns]"
      ]
     },
     "execution_count": 10,
     "metadata": {},
     "output_type": "execute_result"
    }
   ],
   "source": [
    "df.head()"
   ]
  },
  {
   "cell_type": "code",
   "execution_count": 11,
   "metadata": {
    "colab": {
     "base_uri": "https://localhost:8080/",
     "height": 344
    },
    "colab_type": "code",
    "id": "gq1OUFUMmbxT",
    "outputId": "b3c39210-7e47-487b-b487-caa9ca4e23c5"
   },
   "outputs": [
    {
     "data": {
      "text/plain": [
       "1    1926608\n",
       "0        477\n",
       "Name: attack, dtype: int64"
      ]
     },
     "execution_count": 11,
     "metadata": {},
     "output_type": "execute_result"
    },
    {
     "data": {
      "image/png": "[encoded data removed]",
      "text/plain": [
       "<Figure size 432x288 with 1 Axes>"
      ]
     },
     "metadata": {
      "needs_background": "light"
     },
     "output_type": "display_data"
    }
   ],
   "source": [
    "pd.value_counts(df['attack']).plot.bar()\n",
    "plt.title('Attack histogram')\n",
    "plt.xlabel('attack')\n",
    "plt.ylabel('Value')\n",
    "df['attack'].value_counts()"
   ]
  },
  {
   "cell_type": "markdown",
   "metadata": {},
   "source": [
    " #### Here we can find that there is a lot of imbalance in the dataset, so we can tell the data is highly-imballanced. Thus we need to synthtically oversample the minority class to get a balanced dataset for training and testing."
   ]
  },
  {
   "cell_type": "markdown",
   "metadata": {},
   "source": [
    "## Defining some methods which are later used:"
   ]
  },
  {
   "cell_type": "code",
   "execution_count": 15,
   "metadata": {
    "colab": {},
    "colab_type": "code",
    "id": "qD0Yxvv2qQGR"
   },
   "outputs": [],
   "source": [
    "# Used to plot the roc curve.\n",
    "def plot_roc_curve(fpr, tpr):\n",
    "    plt.plot(fpr, tpr, color='orange', label='ROC')\n",
    "    plt.plot([0, 1], [0, 1], color='darkblue', linestyle='--')\n",
    "    plt.xlabel('False Positive Rate')\n",
    "    plt.ylabel('True Positive Rate')\n",
    "    plt.title('Receiver Operating Characteristic (ROC) Curve')\n",
    "    plt.legend()\n",
    "    plt.show()\n",
    "    \n",
    "# Used for classification of dataset.\n",
    "def classif_results(): \n",
    "  conf_mat = confusion_matrix(y_true=y_test, y_pred=y_pred)\n",
    "  print('Confusion matrix:\\n', conf_mat)\n",
    "\n",
    "  labels = ['Class 0', 'Class 1']\n",
    "  fig = plt.figure()\n",
    "  ax = fig.add_subplot(111)\n",
    "  cax = ax.matshow(conf_mat, cmap=plt.cm.Blues)\n",
    "  fig.colorbar(cax)\n",
    "  ax.set_xticklabels([''] + labels)\n",
    "  ax.set_yticklabels([''] + labels)\n",
    "  plt.xlabel('Predicted')\n",
    "  plt.ylabel('Expected')\n",
    "  plt.show()\n",
    "\n",
    "  print(\"Accuracy\", metrics.accuracy_score(y_test, y_pred))\n",
    "\n",
    "  from sklearn.metrics import classification_report\n",
    "  print(classification_report(y_test, y_pred))\n",
    "\n",
    "  auc = roc_auc_score(y_test, y_pred)\n",
    "  print(\"AUC Score: \")\n",
    "  print(auc)\n",
    "\n",
    "  fpr, tpr, thresholds = roc_curve(y_test, y_pred)\n",
    "  plot_roc_curve(fpr, tpr)\n",
    "\n",
    "# Used for splitting and normalizing dataset.\n",
    "def test_scale():\n",
    "  from sklearn.model_selection import train_test_split\n",
    "  X_train, X_test, y_train, y_test = train_test_split(X, y, test_size = 0.4, random_state = 0)\n",
    "\n",
    "  from sklearn.preprocessing import StandardScaler\n",
    "  sc_X = StandardScaler()\n",
    "  X_train = sc_X.fit_transform(X_train)\n",
    "  X_test = sc_X.transform(X_test)"
   ]
  },
  {
   "cell_type": "markdown",
   "metadata": {},
   "source": [
    "### Here, we are applying SMOTE method, and applying it to dataset. We use the daataset by applying attack packets to X and normal to Y and oversample Y sythetically to length of X"
   ]
  },
  {
   "cell_type": "code",
   "execution_count": 17,
   "metadata": {
    "colab": {
     "base_uri": "https://localhost:8080/",
     "height": 106
    },
    "colab_type": "code",
    "id": "4I_gzBXwBJTp",
    "outputId": "86841c67-4987-42c2-e971-e90bc66ce8f2"
   },
   "outputs": [],
   "source": [
    "X = df.iloc[:, df.columns != 'attack']\n",
    "y = df.iloc[:, df.columns == 'attack']\n",
    "smote_obj = SMOTE()\n",
    "X, y = smote_obj.fit_resample(X, y)"
   ]
  },
  {
   "cell_type": "code",
   "execution_count": 18,
   "metadata": {},
   "outputs": [],
   "source": [
    "from sklearn.model_selection import train_test_split\n",
    "X_train, X_test, y_train, y_test = train_test_split(X, y, test_size = 0.4, random_state = 0)\n",
    "\n",
    "from sklearn.preprocessing import StandardScaler\n",
    "sc_X = StandardScaler()\n",
    "X_train = sc_X.fit_transform(X_train)\n",
    "X_test = sc_X.transform(X_test)"
   ]
  },
  {
   "cell_type": "markdown",
   "metadata": {
    "colab_type": "text",
    "id": "WaBPuri0Sk4O"
   },
   "source": [
    "# Logistic Regression:\n"
   ]
  },
  {
   "cell_type": "code",
   "execution_count": 19,
   "metadata": {
    "colab": {},
    "colab_type": "code",
    "id": "ZCxyQRcQNnbB"
   },
   "outputs": [
    {
     "name": "stderr",
     "output_type": "stream",
     "text": [
      "/Users/rahulbanerjee/opt/anaconda3/lib/python3.8/site-packages/sklearn/utils/validation.py:985: DataConversionWarning: A column-vector y was passed when a 1d array was expected. Please change the shape of y to (n_samples, ), for example using ravel().\n",
      "  y = column_or_1d(y, warn=True)\n"
     ]
    }
   ],
   "source": [
    "test_scale()\n",
    "\n",
    "from sklearn.linear_model import LogisticRegression \n",
    "classifier = LogisticRegression()\n",
    "classifier.fit(X_train,y_train)\n",
    "\n",
    "y_pred = classifier.predict(X_test)\n"
   ]
  },
  {
   "cell_type": "code",
   "execution_count": 20,
   "metadata": {
    "colab": {
     "base_uri": "https://localhost:8080/",
     "height": 818
    },
    "colab_type": "code",
    "id": "zq3cY5zdNAij",
    "outputId": "eb6bdabf-194b-46b0-8e92-15b39e8fc844"
   },
   "outputs": [
    {
     "name": "stdout",
     "output_type": "stream",
     "text": [
      "Confusion matrix:\n",
      " [[771384      0]\n",
      " [    91 769812]]\n"
     ]
    },
    {
     "name": "stderr",
     "output_type": "stream",
     "text": [
      "<ipython-input-15-67a29a969878>:21: UserWarning: FixedFormatter should only be used together with FixedLocator\n",
      "  ax.set_xticklabels([''] + labels)\n",
      "<ipython-input-15-67a29a969878>:22: UserWarning: FixedFormatter should only be used together with FixedLocator\n",
      "  ax.set_yticklabels([''] + labels)\n"
     ]
    },
    {
     "data": {
      "image/png": "[encoded data removed]",
      "text/plain": [
       "<Figure size 432x288 with 2 Axes>"
      ]
     },
     "metadata": {
      "needs_background": "light"
     },
     "output_type": "display_data"
    },
    {
     "name": "stdout",
     "output_type": "stream",
     "text": [
      "Accuracy 0.9999409584327903\n",
      "              precision    recall  f1-score   support\n",
      "\n",
      "           0       1.00      1.00      1.00    771384\n",
      "           1       1.00      1.00      1.00    769903\n",
      "\n",
      "    accuracy                           1.00   1541287\n",
      "   macro avg       1.00      1.00      1.00   1541287\n",
      "weighted avg       1.00      1.00      1.00   1541287\n",
      "\n",
      "AUC Score: \n",
      "0.9999409016460515\n"
     ]
    },
    {
     "data": {
      "image/png": "[encoded data removed]",
      "text/plain": [
       "<Figure size 432x288 with 1 Axes>"
      ]
     },
     "metadata": {
      "needs_background": "light"
     },
     "output_type": "display_data"
    }
   ],
   "source": [
    "classif_results()"
   ]
  },
  {
   "cell_type": "code",
   "execution_count": 0,
   "metadata": {
    "colab": {},
    "colab_type": "code",
    "id": "1_oX5TSiZlYN"
   },
   "outputs": [],
   "source": []
  },
  {
   "cell_type": "markdown",
   "metadata": {
    "colab_type": "text",
    "id": "XgAdLKxwYz4a"
   },
   "source": [
    "# Decision Trees"
   ]
  },
  {
   "cell_type": "code",
   "execution_count": 21,
   "metadata": {
    "colab": {},
    "colab_type": "code",
    "id": "u8Eq9ptJY17w"
   },
   "outputs": [],
   "source": [
    "test_scale()\n",
    "\n",
    "from sklearn.tree import DecisionTreeClassifier\n",
    "classifier = DecisionTreeClassifier()\n",
    "classifier.fit(X_train,y_train)\n",
    "\n",
    "y_pred = classifier.predict(X_test)\n",
    "\n"
   ]
  },
  {
   "cell_type": "code",
   "execution_count": 46,
   "metadata": {
    "colab": {
     "base_uri": "https://localhost:8080/",
     "height": 818
    },
    "colab_type": "code",
    "id": "mc1cZCHAY1-0",
    "outputId": "4243bc06-ca50-4700-9557-a6fe81727e4d"
   },
   "outputs": [
    {
     "name": "stdout",
     "output_type": "stream",
     "text": [
      "Confusion matrix:\n",
      " [[771574      0]\n",
      " [     1 769725]]\n"
     ]
    },
    {
     "data": {
      "image/png": "[encoded data removed]",
      "text/plain": [
       "<Figure size 432x288 with 2 Axes>"
      ]
     },
     "metadata": {
      "needs_background": "light",
      "tags": []
     },
     "output_type": "display_data"
    },
    {
     "name": "stdout",
     "output_type": "stream",
     "text": [
      "Accuracy 0.9999993511970414\n",
      "              precision    recall  f1-score   support\n",
      "\n",
      "           0       1.00      1.00      1.00    771574\n",
      "           1       1.00      1.00      1.00    769726\n",
      "\n",
      "    accuracy                           1.00   1541300\n",
      "   macro avg       1.00      1.00      1.00   1541300\n",
      "weighted avg       1.00      1.00      1.00   1541300\n",
      "\n",
      "AUC Score: \n",
      "0.9999993504182008\n"
     ]
    },
    {
     "data": {
      "image/png": "[encoded data removed]",
      "text/plain": [
       "<Figure size 432x288 with 1 Axes>"
      ]
     },
     "metadata": {
      "needs_background": "light",
      "tags": []
     },
     "output_type": "display_data"
    }
   ],
   "source": [
    "classif_results()"
   ]
  },
  {
   "cell_type": "code",
   "execution_count": 0,
   "metadata": {
    "colab": {},
    "colab_type": "code",
    "id": "4U1rSQSJY2Bq"
   },
   "outputs": [],
   "source": []
  },
  {
   "cell_type": "markdown",
   "metadata": {
    "colab_type": "text",
    "id": "F7eoKyO8gvU0"
   },
   "source": [
    "# Random Forest:"
   ]
  },
  {
   "cell_type": "code",
   "execution_count": 22,
   "metadata": {
    "colab": {},
    "colab_type": "code",
    "id": "v0xYdJZGgugZ"
   },
   "outputs": [
    {
     "name": "stderr",
     "output_type": "stream",
     "text": [
      "<ipython-input-22-c5bc9d90f189>:5: DataConversionWarning: A column-vector y was passed when a 1d array was expected. Please change the shape of y to (n_samples,), for example using ravel().\n",
      "  classifier.fit(X_train, y_train)\n"
     ]
    }
   ],
   "source": [
    "test_scale()\n",
    "\n",
    "from sklearn.ensemble import RandomForestClassifier\n",
    "classifier = RandomForestClassifier()\n",
    "classifier.fit(X_train, y_train)\n",
    "\n",
    "\n",
    "y_pred = classifier.predict(X_test)"
   ]
  },
  {
   "cell_type": "code",
   "execution_count": 54,
   "metadata": {
    "colab": {
     "base_uri": "https://localhost:8080/",
     "height": 818
    },
    "colab_type": "code",
    "id": "SxnUXQK6gulj",
    "outputId": "caf4b42c-7cdd-4a62-f954-32f4162408b3"
   },
   "outputs": [
    {
     "name": "stdout",
     "output_type": "stream",
     "text": [
      "Confusion matrix:\n",
      " [[771574      0]\n",
      " [     0 769726]]\n"
     ]
    },
    {
     "data": {
      "image/png": "[encoded data removed]",
      "text/plain": [
       "<Figure size 432x288 with 2 Axes>"
      ]
     },
     "metadata": {
      "needs_background": "light",
      "tags": []
     },
     "output_type": "display_data"
    },
    {
     "name": "stdout",
     "output_type": "stream",
     "text": [
      "Accuracy 1.0\n",
      "              precision    recall  f1-score   support\n",
      "\n",
      "           0       1.00      1.00      1.00    771574\n",
      "           1       1.00      1.00      1.00    769726\n",
      "\n",
      "    accuracy                           1.00   1541300\n",
      "   macro avg       1.00      1.00      1.00   1541300\n",
      "weighted avg       1.00      1.00      1.00   1541300\n",
      "\n",
      "AUC Score: \n",
      "1.0\n"
     ]
    },
    {
     "data": {
      "image/png": "[encoded data removed]",
      "text/plain": [
       "<Figure size 432x288 with 1 Axes>"
      ]
     },
     "metadata": {
      "needs_background": "light",
      "tags": []
     },
     "output_type": "display_data"
    }
   ],
   "source": [
    "classif_results()"
   ]
  },
  {
   "cell_type": "code",
   "execution_count": 0,
   "metadata": {
    "colab": {},
    "colab_type": "code",
    "id": "Q7-wWafQguo8"
   },
   "outputs": [],
   "source": []
  },
  {
   "cell_type": "markdown",
   "metadata": {
    "colab_type": "text",
    "id": "k3RQYB8WSSSY"
   },
   "source": [
    "# KNN"
   ]
  },
  {
   "cell_type": "code",
   "execution_count": null,
   "metadata": {
    "colab": {},
    "colab_type": "code",
    "id": "uJNUH0aVSd4P"
   },
   "outputs": [
    {
     "name": "stderr",
     "output_type": "stream",
     "text": [
      "/Users/rahulbanerjee/opt/anaconda3/lib/python3.8/site-packages/sklearn/neighbors/_classification.py:198: DataConversionWarning: A column-vector y was passed when a 1d array was expected. Please change the shape of y to (n_samples,), for example using ravel().\n",
      "  return self._fit(X, y)\n"
     ]
    }
   ],
   "source": [
    "test_scale()\n",
    "\n",
    "\n",
    "from sklearn.neighbors import KNeighborsClassifier\n",
    "classifier = KNeighborsClassifier()\n",
    "classifier.fit(X_train,y_train)\n",
    "\n",
    "y_pred = classifier.predict(X_test)\n",
    "\n",
    "from sklearn.metrics import confusion_matrix\n",
    "cm = confusion_matrix(y_test,y_pred)"
   ]
  },
  {
   "cell_type": "code",
   "execution_count": 56,
   "metadata": {
    "colab": {
     "base_uri": "https://localhost:8080/",
     "height": 818
    },
    "colab_type": "code",
    "id": "UPjbK4lIV__f",
    "outputId": "697c1484-0d78-4e41-a28b-261ae26bc88e"
   },
   "outputs": [
    {
     "name": "stdout",
     "output_type": "stream",
     "text": [
      "Confusion matrix:\n",
      " [[771574      0]\n",
      " [     6 769720]]\n"
     ]
    },
    {
     "data": {
      "image/png": "[encoded data removed]",
      "text/plain": [
       "<Figure size 432x288 with 2 Axes>"
      ]
     },
     "metadata": {
      "needs_background": "light",
      "tags": []
     },
     "output_type": "display_data"
    },
    {
     "name": "stdout",
     "output_type": "stream",
     "text": [
      "Accuracy 0.9999961071822487\n",
      "              precision    recall  f1-score   support\n",
      "\n",
      "           0       1.00      1.00      1.00    771574\n",
      "           1       1.00      1.00      1.00    769726\n",
      "\n",
      "    accuracy                           1.00   1541300\n",
      "   macro avg       1.00      1.00      1.00   1541300\n",
      "weighted avg       1.00      1.00      1.00   1541300\n",
      "\n",
      "AUC Score: \n",
      "0.9999961025092046\n"
     ]
    },
    {
     "data": {
      "image/png": "[encoded data removed]",
      "text/plain": [
       "<Figure size 432x288 with 1 Axes>"
      ]
     },
     "metadata": {
      "needs_background": "light",
      "tags": []
     },
     "output_type": "display_data"
    }
   ],
   "source": [
    "classif_results()"
   ]
  },
  {
   "cell_type": "code",
   "execution_count": 0,
   "metadata": {
    "colab": {},
    "colab_type": "code",
    "id": "RtcmLQ1rVewF"
   },
   "outputs": [],
   "source": []
  },
  {
   "cell_type": "markdown",
   "metadata": {
    "colab_type": "text",
    "id": "Q802V5OiXG8F"
   },
   "source": [
    "# Support Vector Machines:"
   ]
  },
  {
   "cell_type": "code",
   "execution_count": null,
   "metadata": {
    "colab": {},
    "colab_type": "code",
    "id": "dZB9pl0bVwwU"
   },
   "outputs": [],
   "source": [
    "test_scale()\n",
    "\n",
    "# Fitting SVM to the Training set\n",
    "from sklearn.svm import SVC\n",
    "classifier = SVC()\n",
    "classifier.fit(X_train, y_train)\n",
    "\n",
    "\n",
    "y_pred = classifier.predict(X_test)\n",
    "\n",
    "from sklearn.metrics import confusion_matrix\n",
    "cm = confusion_matrix(y_test,y_pred)"
   ]
  },
  {
   "cell_type": "code",
   "execution_count": 23,
   "metadata": {
    "colab": {
     "base_uri": "https://localhost:8080/",
     "height": 818
    },
    "colab_type": "code",
    "id": "rBko4G0GXaw7",
    "outputId": "00adbfea-3981-4194-8145-1f4bedf21f99"
   },
   "outputs": [
    {
     "name": "stdout",
     "output_type": "stream",
     "text": [
      "Confusion matrix:\n",
      " [[771574      0]\n",
      " [    13 769713]]\n"
     ]
    },
    {
     "data": {
      "image/png": "[encoded data removed]",
      "text/plain": [
       "<Figure size 432x288 with 2 Axes>"
      ]
     },
     "metadata": {
      "needs_background": "light",
      "tags": []
     },
     "output_type": "display_data"
    },
    {
     "name": "stdout",
     "output_type": "stream",
     "text": [
      "Accuracy 0.999991565561539\n",
      "              precision    recall  f1-score   support\n",
      "\n",
      "           0       1.00      1.00      1.00    771574\n",
      "           1       1.00      1.00      1.00    769726\n",
      "\n",
      "    accuracy                           1.00   1541300\n",
      "   macro avg       1.00      1.00      1.00   1541300\n",
      "weighted avg       1.00      1.00      1.00   1541300\n",
      "\n",
      "AUC Score: \n",
      "0.9999915554366099\n"
     ]
    },
    {
     "data": {
      "image/png": "[encoded data removed]",
      "text/plain": [
       "<Figure size 432x288 with 1 Axes>"
      ]
     },
     "metadata": {
      "needs_background": "light",
      "tags": []
     },
     "output_type": "display_data"
    }
   ],
   "source": [
    "classif_results()"
   ]
  },
  {
   "cell_type": "code",
   "execution_count": 0,
   "metadata": {
    "colab": {},
    "colab_type": "code",
    "id": "zNttbb-TXtxS"
   },
   "outputs": [],
   "source": []
  },
  {
   "cell_type": "markdown",
   "metadata": {
    "colab_type": "text",
    "id": "uC67IAVcYtOz"
   },
   "source": [
    "# Naive Bayes Classifier"
   ]
  },
  {
   "cell_type": "code",
   "execution_count": null,
   "metadata": {
    "colab": {},
    "colab_type": "code",
    "id": "zBwG-YYncej7"
   },
   "outputs": [],
   "source": [
    "test_scale()\n",
    "\n",
    "# Fitting SVM to the Training set\n",
    "from sklearn.naive_bayes import GaussianNB\n",
    "\n",
    "#Create a Gaussian Classifier\n",
    "classifier = GaussianNB()\n",
    "\n",
    "# Train the model using the training sets\n",
    "classifier.fit(X_train, y_train)\n",
    "\n",
    "\n",
    "y_pred = classifier.predict(X_test)\n",
    "\n",
    "from sklearn.metrics import confusion_matrix\n",
    "cm = confusion_matrix(y_test,y_pred)"
   ]
  },
  {
   "cell_type": "code",
   "execution_count": 29,
   "metadata": {
    "colab": {
     "base_uri": "https://localhost:8080/",
     "height": 818
    },
    "colab_type": "code",
    "id": "hLkdNWmZksZC",
    "outputId": "e9d12527-da3f-410e-b671-bc088e04b049"
   },
   "outputs": [
    {
     "name": "stdout",
     "output_type": "stream",
     "text": [
      "Confusion matrix:\n",
      " [[771574      0]\n",
      " [   837 768889]]\n"
     ]
    },
    {
     "data": {
      "image/png": "[encoded data removed]",
      "text/plain": [
       "<Figure size 432x288 with 2 Axes>"
      ]
     },
     "metadata": {
      "needs_background": "light",
      "tags": []
     },
     "output_type": "display_data"
    },
    {
     "name": "stdout",
     "output_type": "stream",
     "text": [
      "Accuracy 0.9994569519237008\n",
      "              precision    recall  f1-score   support\n",
      "\n",
      "           0       1.00      1.00      1.00    771574\n",
      "           1       1.00      1.00      1.00    769726\n",
      "\n",
      "    accuracy                           1.00   1541300\n",
      "   macro avg       1.00      1.00      1.00   1541300\n",
      "weighted avg       1.00      1.00      1.00   1541300\n",
      "\n",
      "AUC Score: \n",
      "0.9994563000340381\n"
     ]
    },
    {
     "data": {
      "image/png": "[encoded data removed]",
      "text/plain": [
       "<Figure size 432x288 with 1 Axes>"
      ]
     },
     "metadata": {
      "needs_background": "light",
      "tags": []
     },
     "output_type": "display_data"
    }
   ],
   "source": [
    "classif_results()"
   ]
  },
  {
   "cell_type": "code",
   "execution_count": 0,
   "metadata": {
    "colab": {},
    "colab_type": "code",
    "id": "M6HUBYufk7zw"
   },
   "outputs": [],
   "source": []
  },
  {
   "cell_type": "markdown",
   "metadata": {
    "colab_type": "text",
    "id": "RFhSu26Epqrp"
   },
   "source": [
    "# Neural Network"
   ]
  },
  {
   "cell_type": "code",
   "execution_count": 34,
   "metadata": {
    "colab": {
     "base_uri": "https://localhost:8080/",
     "height": 121
    },
    "colab_type": "code",
    "id": "LhH1Fh49ptq6",
    "outputId": "62aa0660-e341-410b-bc48-7ed53e812a75"
   },
   "outputs": [
    {
     "name": "stdout",
     "output_type": "stream",
     "text": [
      "Epoch 1/3\n",
      "2311948/2311948 [==============================] - 263s 114us/step - loss: 0.0029 - accuracy: 0.9998\n",
      "Epoch 2/3\n",
      "2311948/2311948 [==============================] - 260s 113us/step - loss: 0.0043 - accuracy: 1.0000\n",
      "Epoch 3/3\n",
      "2311948/2311948 [==============================] - 260s 112us/step - loss: 0.0031 - accuracy: 1.0000\n"
     ]
    }
   ],
   "source": [
    "import keras\n",
    "from keras.models import Sequential\n",
    "from keras.layers import Dense\n",
    "\n",
    "\n",
    "classifier = Sequential()\n",
    "classifier.add(Dense(units = 6, kernel_initializer = 'uniform', activation = 'relu', input_dim = 29))\n",
    "classifier.add(Dense(units = 6, kernel_initializer = 'uniform', activation = 'relu'))\n",
    "classifier.add(Dense(units = 1, kernel_initializer = 'uniform', activation = 'sigmoid'))\n",
    "classifier.compile(optimizer = 'adam', loss = 'binary_crossentropy', metrics = ['accuracy'])\n",
    "\n",
    "\n",
    "# Fitting the ANN to the Training set\n",
    "classifier.fit(X_train, y_train, batch_size = 10, epochs = 3)\n",
    "\n",
    "# Part 3 - Making predictions and evaluating the model\n",
    "\n",
    "# Predicting the Test set results\n",
    "y_pred = classifier.predict(X_test)\n",
    "y_pred = (y_pred > 0.5)\n",
    "\n",
    "# Making the Confusion Matrix\n",
    "from sklearn.metrics import confusion_matrix\n",
    "cm = confusion_matrix(y_test, y_pred)\n"
   ]
  },
  {
   "cell_type": "code",
   "execution_count": 36,
   "metadata": {
    "colab": {
     "base_uri": "https://localhost:8080/",
     "height": 818
    },
    "colab_type": "code",
    "id": "JoAWOUZNpvr2",
    "outputId": "b7bd97e5-c37b-4279-91af-5475341dac74"
   },
   "outputs": [
    {
     "name": "stdout",
     "output_type": "stream",
     "text": [
      "Confusion matrix:\n",
      " [[771574      0]\n",
      " [    12 769714]]\n"
     ]
    },
    {
     "data": {
      "image/png": "[encoded data removed]",
      "text/plain": [
       "<Figure size 432x288 with 2 Axes>"
      ]
     },
     "metadata": {
      "needs_background": "light",
      "tags": []
     },
     "output_type": "display_data"
    },
    {
     "name": "stdout",
     "output_type": "stream",
     "text": [
      "Accuracy 0.9999922143644975\n",
      "              precision    recall  f1-score   support\n",
      "\n",
      "           0       1.00      1.00      1.00    771574\n",
      "           1       1.00      1.00      1.00    769726\n",
      "\n",
      "    accuracy                           1.00   1541300\n",
      "   macro avg       1.00      1.00      1.00   1541300\n",
      "weighted avg       1.00      1.00      1.00   1541300\n",
      "\n",
      "AUC Score: \n",
      "0.9999922050184091\n"
     ]
    },
    {
     "data": {
      "image/png": "[encoded data removed]",
      "text/plain": [
       "<Figure size 432x288 with 1 Axes>"
      ]
     },
     "metadata": {
      "needs_background": "light",
      "tags": []
     },
     "output_type": "display_data"
    }
   ],
   "source": [
    "classif_results()"
   ]
  },
  {
   "cell_type": "markdown",
   "metadata": {
    "colab": {},
    "colab_type": "code",
    "id": "MszcdtWl0KcK"
   },
   "source": []
  },
  {
   "cell_type": "code",
   "execution_count": null,
   "metadata": {},
   "outputs": [],
   "source": []
  }
 ],
 "metadata": {
  "colab": {
   "collapsed_sections": [],
   "name": "MachineLearningCLassification.ipynb",
   "provenance": []
  },
  "kernelspec": {
   "display_name": "Python 3",
   "language": "python",
   "name": "python3"
  },
  "language_info": {
   "codemirror_mode": {
    "name": "ipython",
    "version": 3
   },
   "file_extension": ".py",
   "mimetype": "text/x-python",
   "name": "python",
   "nbconvert_exporter": "python",
   "pygments_lexer": "ipython3",
   "version": "3.8.5"
  }
 },
 "nbformat": 4,
 "nbformat_minor": 1
}
