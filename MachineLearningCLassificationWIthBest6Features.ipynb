{
 "cells": [
  {
   "cell_type": "markdown",
   "metadata": {
    "colab_type": "text",
    "id": "jTTr50dJWlmm"
   },
   "source": [
    "# MACHINE LEARNING CLASSIFICATION AND COMPARISONS\n",
    "\n",
    "This notebook we have used 6 different ML classifiers and compared them to find the best one that can accurately classify our malicious dataset."
   ]
  },
  {
   "cell_type": "markdown",
   "metadata": {
    "colab_type": "text",
    "id": "SUPmMKPDWlmp"
   },
   "source": [
    "## Installing some libraries."
   ]
  },
  {
   "cell_type": "code",
   "execution_count": 1,
   "metadata": {
    "colab": {
     "base_uri": "https://localhost:8080/",
     "height": 1000
    },
    "colab_type": "code",
    "id": "qr2UdY33jeUQ",
    "outputId": "4e39aaf2-89ab-4438-ad41-419b891887c7"
   },
   "outputs": [
    {
     "name": "stdout",
     "output_type": "stream",
     "text": [
      "Requirement already satisfied: smote_variants in /Users/rahulbanerjee/opt/anaconda3/lib/python3.8/site-packages (0.4.0)\n",
      "Requirement already satisfied: minisom in /Users/rahulbanerjee/opt/anaconda3/lib/python3.8/site-packages (from smote_variants) (2.2.9)\n",
      "Requirement already satisfied: tensorflow in /Users/rahulbanerjee/opt/anaconda3/lib/python3.8/site-packages (from smote_variants) (2.6.0)\n",
      "Requirement already satisfied: keras in /Users/rahulbanerjee/opt/anaconda3/lib/python3.8/site-packages (from smote_variants) (2.6.0)\n",
      "Requirement already satisfied: numpy>=1.13.0 in /Users/rahulbanerjee/opt/anaconda3/lib/python3.8/site-packages (from smote_variants) (1.19.2)\n",
      "Requirement already satisfied: scipy in /Users/rahulbanerjee/opt/anaconda3/lib/python3.8/site-packages (from smote_variants) (1.5.2)\n",
      "Requirement already satisfied: joblib in /Users/rahulbanerjee/opt/anaconda3/lib/python3.8/site-packages (from smote_variants) (0.17.0)\n",
      "Requirement already satisfied: scikit-learn in /Users/rahulbanerjee/opt/anaconda3/lib/python3.8/site-packages (from smote_variants) (1.0.1)\n",
      "Requirement already satisfied: mkl in /Users/rahulbanerjee/opt/anaconda3/lib/python3.8/site-packages (from smote_variants) (2021.4.0)\n",
      "Requirement already satisfied: pandas in /Users/rahulbanerjee/opt/anaconda3/lib/python3.8/site-packages (from smote_variants) (1.1.3)\n",
      "Requirement already satisfied: statistics in /Users/rahulbanerjee/opt/anaconda3/lib/python3.8/site-packages (from smote_variants) (1.0.3.5)\n",
      "Requirement already satisfied: absl-py~=0.10 in /Users/rahulbanerjee/opt/anaconda3/lib/python3.8/site-packages (from tensorflow->smote_variants) (0.15.0)\n",
      "Requirement already satisfied: typing-extensions~=3.7.4 in /Users/rahulbanerjee/opt/anaconda3/lib/python3.8/site-packages (from tensorflow->smote_variants) (3.7.4.3)\n",
      "Requirement already satisfied: tensorboard~=2.6 in /Users/rahulbanerjee/opt/anaconda3/lib/python3.8/site-packages (from tensorflow->smote_variants) (2.7.0)\n",
      "Requirement already satisfied: termcolor~=1.1.0 in /Users/rahulbanerjee/opt/anaconda3/lib/python3.8/site-packages (from tensorflow->smote_variants) (1.1.0)\n",
      "Requirement already satisfied: grpcio<2.0,>=1.37.0 in /Users/rahulbanerjee/opt/anaconda3/lib/python3.8/site-packages (from tensorflow->smote_variants) (1.41.0)\n",
      "Requirement already satisfied: h5py~=3.1.0 in /Users/rahulbanerjee/opt/anaconda3/lib/python3.8/site-packages (from tensorflow->smote_variants) (3.1.0)\n",
      "Requirement already satisfied: flatbuffers~=1.12.0 in /Users/rahulbanerjee/opt/anaconda3/lib/python3.8/site-packages (from tensorflow->smote_variants) (1.12)\n",
      "Requirement already satisfied: keras-preprocessing~=1.1.2 in /Users/rahulbanerjee/opt/anaconda3/lib/python3.8/site-packages (from tensorflow->smote_variants) (1.1.2)\n",
      "Requirement already satisfied: tensorflow-estimator~=2.6 in /Users/rahulbanerjee/opt/anaconda3/lib/python3.8/site-packages (from tensorflow->smote_variants) (2.6.0)\n",
      "Requirement already satisfied: protobuf>=3.9.2 in /Users/rahulbanerjee/opt/anaconda3/lib/python3.8/site-packages (from tensorflow->smote_variants) (3.17.0)\n",
      "Requirement already satisfied: clang~=5.0 in /Users/rahulbanerjee/opt/anaconda3/lib/python3.8/site-packages (from tensorflow->smote_variants) (5.0)\n",
      "Requirement already satisfied: astunparse~=1.6.3 in /Users/rahulbanerjee/opt/anaconda3/lib/python3.8/site-packages (from tensorflow->smote_variants) (1.6.3)\n",
      "Requirement already satisfied: six~=1.15.0 in /Users/rahulbanerjee/opt/anaconda3/lib/python3.8/site-packages (from tensorflow->smote_variants) (1.15.0)\n",
      "Requirement already satisfied: wheel~=0.35 in /Users/rahulbanerjee/opt/anaconda3/lib/python3.8/site-packages (from tensorflow->smote_variants) (0.35.1)\n",
      "Requirement already satisfied: wrapt~=1.12.1 in /Users/rahulbanerjee/opt/anaconda3/lib/python3.8/site-packages (from tensorflow->smote_variants) (1.12.1)\n",
      "Requirement already satisfied: opt-einsum~=3.3.0 in /Users/rahulbanerjee/opt/anaconda3/lib/python3.8/site-packages (from tensorflow->smote_variants) (3.3.0)\n",
      "Requirement already satisfied: google-pasta~=0.2 in /Users/rahulbanerjee/opt/anaconda3/lib/python3.8/site-packages (from tensorflow->smote_variants) (0.2.0)\n",
      "Requirement already satisfied: gast==0.4.0 in /Users/rahulbanerjee/opt/anaconda3/lib/python3.8/site-packages (from tensorflow->smote_variants) (0.4.0)\n",
      "Requirement already satisfied: threadpoolctl>=2.0.0 in /Users/rahulbanerjee/opt/anaconda3/lib/python3.8/site-packages (from scikit-learn->smote_variants) (2.1.0)\n",
      "Requirement already satisfied: intel-openmp==2021.* in /Users/rahulbanerjee/opt/anaconda3/lib/python3.8/site-packages (from mkl->smote_variants) (2021.4.0)\n",
      "Requirement already satisfied: tbb==2021.* in /Users/rahulbanerjee/opt/anaconda3/lib/python3.8/site-packages (from mkl->smote_variants) (2021.4.0)\n",
      "Requirement already satisfied: python-dateutil>=2.7.3 in /Users/rahulbanerjee/opt/anaconda3/lib/python3.8/site-packages (from pandas->smote_variants) (2.8.1)\n",
      "Requirement already satisfied: pytz>=2017.2 in /Users/rahulbanerjee/opt/anaconda3/lib/python3.8/site-packages (from pandas->smote_variants) (2020.1)\n",
      "Requirement already satisfied: docutils>=0.3 in /Users/rahulbanerjee/opt/anaconda3/lib/python3.8/site-packages (from statistics->smote_variants) (0.16)\n",
      "Requirement already satisfied: werkzeug>=0.11.15 in /Users/rahulbanerjee/opt/anaconda3/lib/python3.8/site-packages (from tensorboard~=2.6->tensorflow->smote_variants) (1.0.1)\n",
      "Requirement already satisfied: markdown>=2.6.8 in /Users/rahulbanerjee/opt/anaconda3/lib/python3.8/site-packages (from tensorboard~=2.6->tensorflow->smote_variants) (3.3.4)\n",
      "Requirement already satisfied: requests<3,>=2.21.0 in /Users/rahulbanerjee/opt/anaconda3/lib/python3.8/site-packages (from tensorboard~=2.6->tensorflow->smote_variants) (2.24.0)\n",
      "Requirement already satisfied: setuptools>=41.0.0 in /Users/rahulbanerjee/opt/anaconda3/lib/python3.8/site-packages (from tensorboard~=2.6->tensorflow->smote_variants) (50.3.1.post20201107)\n",
      "Requirement already satisfied: google-auth-oauthlib<0.5,>=0.4.1 in /Users/rahulbanerjee/opt/anaconda3/lib/python3.8/site-packages (from tensorboard~=2.6->tensorflow->smote_variants) (0.4.6)\n",
      "Requirement already satisfied: tensorboard-data-server<0.7.0,>=0.6.0 in /Users/rahulbanerjee/opt/anaconda3/lib/python3.8/site-packages (from tensorboard~=2.6->tensorflow->smote_variants) (0.6.1)\n",
      "Requirement already satisfied: google-auth<3,>=1.6.3 in /Users/rahulbanerjee/opt/anaconda3/lib/python3.8/site-packages (from tensorboard~=2.6->tensorflow->smote_variants) (2.3.0)\n",
      "Requirement already satisfied: tensorboard-plugin-wit>=1.6.0 in /Users/rahulbanerjee/opt/anaconda3/lib/python3.8/site-packages (from tensorboard~=2.6->tensorflow->smote_variants) (1.8.0)\n",
      "Requirement already satisfied: chardet<4,>=3.0.2 in /Users/rahulbanerjee/opt/anaconda3/lib/python3.8/site-packages (from requests<3,>=2.21.0->tensorboard~=2.6->tensorflow->smote_variants) (3.0.4)\n",
      "Requirement already satisfied: urllib3!=1.25.0,!=1.25.1,<1.26,>=1.21.1 in /Users/rahulbanerjee/opt/anaconda3/lib/python3.8/site-packages (from requests<3,>=2.21.0->tensorboard~=2.6->tensorflow->smote_variants) (1.25.10)\n",
      "Requirement already satisfied: certifi>=2017.4.17 in /Users/rahulbanerjee/opt/anaconda3/lib/python3.8/site-packages (from requests<3,>=2.21.0->tensorboard~=2.6->tensorflow->smote_variants) (2020.6.20)\n",
      "Requirement already satisfied: idna<3,>=2.5 in /Users/rahulbanerjee/opt/anaconda3/lib/python3.8/site-packages (from requests<3,>=2.21.0->tensorboard~=2.6->tensorflow->smote_variants) (2.10)\n",
      "Requirement already satisfied: requests-oauthlib>=0.7.0 in /Users/rahulbanerjee/opt/anaconda3/lib/python3.8/site-packages (from google-auth-oauthlib<0.5,>=0.4.1->tensorboard~=2.6->tensorflow->smote_variants) (1.3.0)\n",
      "Requirement already satisfied: rsa<5,>=3.1.4 in /Users/rahulbanerjee/opt/anaconda3/lib/python3.8/site-packages (from google-auth<3,>=1.6.3->tensorboard~=2.6->tensorflow->smote_variants) (4.7.2)\n",
      "Requirement already satisfied: pyasn1-modules>=0.2.1 in /Users/rahulbanerjee/opt/anaconda3/lib/python3.8/site-packages (from google-auth<3,>=1.6.3->tensorboard~=2.6->tensorflow->smote_variants) (0.2.8)\n",
      "Requirement already satisfied: cachetools<5.0,>=2.0.0 in /Users/rahulbanerjee/opt/anaconda3/lib/python3.8/site-packages (from google-auth<3,>=1.6.3->tensorboard~=2.6->tensorflow->smote_variants) (4.2.4)\n",
      "Requirement already satisfied: oauthlib>=3.0.0 in /Users/rahulbanerjee/opt/anaconda3/lib/python3.8/site-packages (from requests-oauthlib>=0.7.0->google-auth-oauthlib<0.5,>=0.4.1->tensorboard~=2.6->tensorflow->smote_variants) (3.1.1)\n",
      "Requirement already satisfied: pyasn1>=0.1.3 in /Users/rahulbanerjee/opt/anaconda3/lib/python3.8/site-packages (from rsa<5,>=3.1.4->google-auth<3,>=1.6.3->tensorboard~=2.6->tensorflow->smote_variants) (0.4.8)\n"
     ]
    },
    {
     "name": "stdout",
     "output_type": "stream",
     "text": [
      "Note: you may need to restart the kernel to use updated packages.\n"
     ]
    }
   ],
   "source": [
    "pip install smote_variants"
   ]
  },
  {
   "cell_type": "code",
   "execution_count": 0,
   "metadata": {
    "colab": {
     "base_uri": "https://localhost:8080/",
     "height": 280
    },
    "colab_type": "code",
    "id": "7czY2ZsRLL2q",
    "outputId": "e8fd7c9b-5957-4c46-a018-cb319a90ae83"
   },
   "outputs": [
    {
     "name": "stdout",
     "output_type": "stream",
     "text": [
      "Collecting imbalanced_databases\n",
      "\u001b[?25l  Downloading https://files.pythonhosted.org/packages/9e/44/5bc6bf4d05a19e711fcdbceb0f4fcc48b46b85d3f140285bacafee2a40d8/imbalanced_databases-0.1.1-py3-none-any.whl (4.3MB)\n",
      "\u001b[K     |████████████████████████████████| 4.3MB 8.1MB/s \n",
      "\u001b[?25hRequirement already satisfied: sklearn in /usr/local/lib/python3.6/dist-packages (from imbalanced_databases) (0.0)\n",
      "Requirement already satisfied: scipy in /usr/local/lib/python3.6/dist-packages (from imbalanced_databases) (1.4.1)\n",
      "Requirement already satisfied: numpy in /usr/local/lib/python3.6/dist-packages (from imbalanced_databases) (1.18.5)\n",
      "Requirement already satisfied: pandas in /usr/local/lib/python3.6/dist-packages (from imbalanced_databases) (1.0.4)\n",
      "Requirement already satisfied: scikit-learn in /usr/local/lib/python3.6/dist-packages (from sklearn->imbalanced_databases) (0.22.2.post1)\n",
      "Requirement already satisfied: pytz>=2017.2 in /usr/local/lib/python3.6/dist-packages (from pandas->imbalanced_databases) (2018.9)\n",
      "Requirement already satisfied: python-dateutil>=2.6.1 in /usr/local/lib/python3.6/dist-packages (from pandas->imbalanced_databases) (2.8.1)\n",
      "Requirement already satisfied: joblib>=0.11 in /usr/local/lib/python3.6/dist-packages (from scikit-learn->sklearn->imbalanced_databases) (0.15.1)\n",
      "Requirement already satisfied: six>=1.5 in /usr/local/lib/python3.6/dist-packages (from python-dateutil>=2.6.1->pandas->imbalanced_databases) (1.12.0)\n",
      "Installing collected packages: imbalanced-databases\n",
      "Successfully installed imbalanced-databases-0.1.1\n"
     ]
    }
   ],
   "source": [
    "pip install imbalanced_databases"
   ]
  },
  {
   "cell_type": "code",
   "execution_count": 2,
   "metadata": {
    "colab": {
     "base_uri": "https://localhost:8080/",
     "height": 104
    },
    "colab_type": "code",
    "id": "b4FUTDEnT0qp",
    "outputId": "50ca8a94-05ed-4f73-c79d-a00abded398a"
   },
   "outputs": [
    {
     "name": "stdout",
     "output_type": "stream",
     "text": [
      "Requirement already satisfied: imbalanced-learn in /Users/rahulbanerjee/opt/anaconda3/lib/python3.8/site-packages (0.8.1)\n",
      "Requirement already satisfied: numpy>=1.13.3 in /Users/rahulbanerjee/opt/anaconda3/lib/python3.8/site-packages (from imbalanced-learn) (1.19.2)\n",
      "Requirement already satisfied: scikit-learn>=0.24 in /Users/rahulbanerjee/opt/anaconda3/lib/python3.8/site-packages (from imbalanced-learn) (1.0.1)\n",
      "Requirement already satisfied: joblib>=0.11 in /Users/rahulbanerjee/opt/anaconda3/lib/python3.8/site-packages (from imbalanced-learn) (0.17.0)\n",
      "Requirement already satisfied: scipy>=0.19.1 in /Users/rahulbanerjee/opt/anaconda3/lib/python3.8/site-packages (from imbalanced-learn) (1.5.2)\n",
      "Requirement already satisfied: threadpoolctl>=2.0.0 in /Users/rahulbanerjee/opt/anaconda3/lib/python3.8/site-packages (from scikit-learn>=0.24->imbalanced-learn) (2.1.0)\n",
      "Note: you may need to restart the kernel to use updated packages.\n"
     ]
    }
   ],
   "source": [
    "pip install imbalanced-learn"
   ]
  },
  {
   "cell_type": "markdown",
   "metadata": {
    "colab_type": "text",
    "id": "msNPOM1mWlnH"
   },
   "source": [
    "## Importing libraries for our needs."
   ]
  },
  {
   "cell_type": "code",
   "execution_count": 3,
   "metadata": {
    "colab": {
     "base_uri": "https://localhost:8080/",
     "height": 106
    },
    "colab_type": "code",
    "id": "JnKWN9B2LHP4",
    "outputId": "05d7218a-2bfc-4ffe-db5c-b8612c98afaa"
   },
   "outputs": [],
   "source": [
    "import smote_variants as sv\n",
    "import pandas  as pd\n",
    "import matplotlib.pyplot as plt\n",
    "import numpy as np\n",
    "import imbalanced_databases as imbd\n",
    "from sklearn import metrics\n",
    "from sklearn.datasets import load_wine\n",
    "from sklearn.metrics import roc_curve, auc, roc_auc_score\n",
    "from sklearn.metrics import confusion_matrix\n",
    "from sklearn import metrics\n",
    "from sklearn.metrics import plot_roc_curve\n",
    "from imblearn.over_sampling import SMOTE\n",
    "\n",
    "%matplotlib inline\n",
    "from sklearn.model_selection import train_test_split"
   ]
  },
  {
   "cell_type": "markdown",
   "metadata": {
    "colab_type": "text",
    "id": "yMcZTmIOWlnP"
   },
   "source": [
    "## Reading the dataset to a dataframe."
   ]
  },
  {
   "cell_type": "code",
   "execution_count": 0,
   "metadata": {
    "colab": {
     "base_uri": "https://localhost:8080/",
     "height": 124
    },
    "colab_type": "code",
    "id": "K6gyDfH5PcxL",
    "outputId": "464ebab9-404b-4091-c5cc-a057fbdb0677"
   },
   "outputs": [
    {
     "name": "stdout",
     "output_type": "stream",
     "text": [
      "Go to this URL in a browser: https://accounts.google.com/o/oauth2/auth?client_id=947318989803-6bn6qk8qdgf4n4g3pfee6491hc0brc4i.apps.googleusercontent.com&redirect_uri=urn%3aietf%3awg%3aoauth%3a2.0%3aoob&response_type=code&scope=email%20https%3a%2f%2fwww.googleapis.com%2fauth%2fdocs.test%20https%3a%2f%2fwww.googleapis.com%2fauth%2fdrive%20https%3a%2f%2fwww.googleapis.com%2fauth%2fdrive.photos.readonly%20https%3a%2f%2fwww.googleapis.com%2fauth%2fpeopleapi.readonly\n",
      "\n",
      "Enter your authorization code:\n",
      "··········\n",
      "Mounted at /content/drive\n"
     ]
    }
   ],
   "source": [
    "#from google.colab import drive\n",
    "#drive.mount('/content/drive')"
   ]
  },
  {
   "cell_type": "code",
   "execution_count": 4,
   "metadata": {
    "colab": {},
    "colab_type": "code",
    "id": "5i6xdA4nJ_Me"
   },
   "outputs": [],
   "source": [
    "df_train = pd.read_csv('ml_dataset.csv')"
   ]
  },
  {
   "cell_type": "code",
   "execution_count": 5,
   "metadata": {
    "colab": {},
    "colab_type": "code",
    "id": "rL13VhV0kb78"
   },
   "outputs": [],
   "source": [
    "df = df_train.copy()"
   ]
  },
  {
   "cell_type": "code",
   "execution_count": 30,
   "metadata": {
    "colab": {
     "base_uri": "https://localhost:8080/",
     "height": 173
    },
    "colab_type": "code",
    "id": "lEIV2KpEXKWA",
    "outputId": "df488519-2521-4c2c-fe18-b93e085e52ab"
   },
   "outputs": [
    {
     "data": {
      "text/plain": [
       "Index(['average_dur', 'stddev_dur', 'min_dur', 'max_dur', 'srate', 'drate',\n",
       "       'attack'],\n",
       "      dtype='object')"
      ]
     },
     "execution_count": 30,
     "metadata": {},
     "output_type": "execute_result"
    }
   ],
   "source": [
    "df.columns"
   ]
  },
  {
   "cell_type": "code",
   "execution_count": 31,
   "metadata": {
    "colab": {},
    "colab_type": "code",
    "id": "b5Xjb7hKWlnu"
   },
   "outputs": [
    {
     "ename": "KeyError",
     "evalue": "\"['Unnamed: 0' 'pkts' 'bytes' 'dur' 'total_dur' 'spkts' 'dpkts' 'sbytes'\\n 'dbytes' 'rate' 'TnBPSrcIP' 'TnBPDstIP' 'TnP_PSrcIP' 'TnP_PDstIP'\\n 'TnP_PerProto' 'TnP_Per_Dport' 'AR_P_Proto_P_SrcIP' 'AR_P_Proto_P_DstIP'\\n 'AR_P_Proto_P_Sport' 'AR_P_Proto_P_Dport'\\n 'Pkts_P_State_P_Protocol_P_DestIP' 'Pkts_P_State_P_Protocol_P_SrcIP'\\n 'N_IN_Conn_P_SrcIP' 'N_IN_Conn_P_DstIP'] not found in axis\"",
     "output_type": "error",
     "traceback": [
      "\u001b[0;31m---------------------------------------------------------------------------\u001b[0m",
      "\u001b[0;31mKeyError\u001b[0m                                  Traceback (most recent call last)",
      "\u001b[0;32m<ipython-input-31-77c9e30bf044>\u001b[0m in \u001b[0;36m<module>\u001b[0;34m\u001b[0m\n\u001b[0;32m----> 1\u001b[0;31m df.drop([ 'Unnamed: 0', 'pkts', 'bytes', 'dur', \n\u001b[0m\u001b[1;32m      2\u001b[0m        \u001b[0;34m'total_dur'\u001b[0m\u001b[0;34m,\u001b[0m  \u001b[0;34m'spkts'\u001b[0m\u001b[0;34m,\u001b[0m \u001b[0;34m'dpkts'\u001b[0m\u001b[0;34m,\u001b[0m \u001b[0;34m'sbytes'\u001b[0m\u001b[0;34m,\u001b[0m \u001b[0;34m'dbytes'\u001b[0m\u001b[0;34m,\u001b[0m\u001b[0;34m\u001b[0m\u001b[0;34m\u001b[0m\u001b[0m\n\u001b[1;32m      3\u001b[0m        \u001b[0;34m'rate'\u001b[0m\u001b[0;34m,\u001b[0m \u001b[0;34m'TnBPSrcIP'\u001b[0m\u001b[0;34m,\u001b[0m \u001b[0;34m'TnBPDstIP'\u001b[0m\u001b[0;34m,\u001b[0m \u001b[0;34m'TnP_PSrcIP'\u001b[0m\u001b[0;34m,\u001b[0m\u001b[0;34m\u001b[0m\u001b[0;34m\u001b[0m\u001b[0m\n\u001b[1;32m      4\u001b[0m        \u001b[0;34m'TnP_PDstIP'\u001b[0m\u001b[0;34m,\u001b[0m \u001b[0;34m'TnP_PerProto'\u001b[0m\u001b[0;34m,\u001b[0m \u001b[0;34m'TnP_Per_Dport'\u001b[0m\u001b[0;34m,\u001b[0m \u001b[0;34m'AR_P_Proto_P_SrcIP'\u001b[0m\u001b[0;34m,\u001b[0m\u001b[0;34m\u001b[0m\u001b[0;34m\u001b[0m\u001b[0m\n\u001b[1;32m      5\u001b[0m        \u001b[0;34m'AR_P_Proto_P_DstIP'\u001b[0m\u001b[0;34m,\u001b[0m\u001b[0;34m\u001b[0m\u001b[0;34m\u001b[0m\u001b[0m\n",
      "\u001b[0;32m~/opt/anaconda3/lib/python3.8/site-packages/pandas/core/frame.py\u001b[0m in \u001b[0;36mdrop\u001b[0;34m(self, labels, axis, index, columns, level, inplace, errors)\u001b[0m\n\u001b[1;32m   4161\u001b[0m                 \u001b[0mweight\u001b[0m  \u001b[0;36m1.0\u001b[0m     \u001b[0;36m0.8\u001b[0m\u001b[0;34m\u001b[0m\u001b[0;34m\u001b[0m\u001b[0m\n\u001b[1;32m   4162\u001b[0m         \"\"\"\n\u001b[0;32m-> 4163\u001b[0;31m         return super().drop(\n\u001b[0m\u001b[1;32m   4164\u001b[0m             \u001b[0mlabels\u001b[0m\u001b[0;34m=\u001b[0m\u001b[0mlabels\u001b[0m\u001b[0;34m,\u001b[0m\u001b[0;34m\u001b[0m\u001b[0;34m\u001b[0m\u001b[0m\n\u001b[1;32m   4165\u001b[0m             \u001b[0maxis\u001b[0m\u001b[0;34m=\u001b[0m\u001b[0maxis\u001b[0m\u001b[0;34m,\u001b[0m\u001b[0;34m\u001b[0m\u001b[0;34m\u001b[0m\u001b[0m\n",
      "\u001b[0;32m~/opt/anaconda3/lib/python3.8/site-packages/pandas/core/generic.py\u001b[0m in \u001b[0;36mdrop\u001b[0;34m(self, labels, axis, index, columns, level, inplace, errors)\u001b[0m\n\u001b[1;32m   3885\u001b[0m         \u001b[0;32mfor\u001b[0m \u001b[0maxis\u001b[0m\u001b[0;34m,\u001b[0m \u001b[0mlabels\u001b[0m \u001b[0;32min\u001b[0m \u001b[0maxes\u001b[0m\u001b[0;34m.\u001b[0m\u001b[0mitems\u001b[0m\u001b[0;34m(\u001b[0m\u001b[0;34m)\u001b[0m\u001b[0;34m:\u001b[0m\u001b[0;34m\u001b[0m\u001b[0;34m\u001b[0m\u001b[0m\n\u001b[1;32m   3886\u001b[0m             \u001b[0;32mif\u001b[0m \u001b[0mlabels\u001b[0m \u001b[0;32mis\u001b[0m \u001b[0;32mnot\u001b[0m \u001b[0;32mNone\u001b[0m\u001b[0;34m:\u001b[0m\u001b[0;34m\u001b[0m\u001b[0;34m\u001b[0m\u001b[0m\n\u001b[0;32m-> 3887\u001b[0;31m                 \u001b[0mobj\u001b[0m \u001b[0;34m=\u001b[0m \u001b[0mobj\u001b[0m\u001b[0;34m.\u001b[0m\u001b[0m_drop_axis\u001b[0m\u001b[0;34m(\u001b[0m\u001b[0mlabels\u001b[0m\u001b[0;34m,\u001b[0m \u001b[0maxis\u001b[0m\u001b[0;34m,\u001b[0m \u001b[0mlevel\u001b[0m\u001b[0;34m=\u001b[0m\u001b[0mlevel\u001b[0m\u001b[0;34m,\u001b[0m \u001b[0merrors\u001b[0m\u001b[0;34m=\u001b[0m\u001b[0merrors\u001b[0m\u001b[0;34m)\u001b[0m\u001b[0;34m\u001b[0m\u001b[0;34m\u001b[0m\u001b[0m\n\u001b[0m\u001b[1;32m   3888\u001b[0m \u001b[0;34m\u001b[0m\u001b[0m\n\u001b[1;32m   3889\u001b[0m         \u001b[0;32mif\u001b[0m \u001b[0minplace\u001b[0m\u001b[0;34m:\u001b[0m\u001b[0;34m\u001b[0m\u001b[0;34m\u001b[0m\u001b[0m\n",
      "\u001b[0;32m~/opt/anaconda3/lib/python3.8/site-packages/pandas/core/generic.py\u001b[0m in \u001b[0;36m_drop_axis\u001b[0;34m(self, labels, axis, level, errors)\u001b[0m\n\u001b[1;32m   3919\u001b[0m                 \u001b[0mnew_axis\u001b[0m \u001b[0;34m=\u001b[0m \u001b[0maxis\u001b[0m\u001b[0;34m.\u001b[0m\u001b[0mdrop\u001b[0m\u001b[0;34m(\u001b[0m\u001b[0mlabels\u001b[0m\u001b[0;34m,\u001b[0m \u001b[0mlevel\u001b[0m\u001b[0;34m=\u001b[0m\u001b[0mlevel\u001b[0m\u001b[0;34m,\u001b[0m \u001b[0merrors\u001b[0m\u001b[0;34m=\u001b[0m\u001b[0merrors\u001b[0m\u001b[0;34m)\u001b[0m\u001b[0;34m\u001b[0m\u001b[0;34m\u001b[0m\u001b[0m\n\u001b[1;32m   3920\u001b[0m             \u001b[0;32melse\u001b[0m\u001b[0;34m:\u001b[0m\u001b[0;34m\u001b[0m\u001b[0;34m\u001b[0m\u001b[0m\n\u001b[0;32m-> 3921\u001b[0;31m                 \u001b[0mnew_axis\u001b[0m \u001b[0;34m=\u001b[0m \u001b[0maxis\u001b[0m\u001b[0;34m.\u001b[0m\u001b[0mdrop\u001b[0m\u001b[0;34m(\u001b[0m\u001b[0mlabels\u001b[0m\u001b[0;34m,\u001b[0m \u001b[0merrors\u001b[0m\u001b[0;34m=\u001b[0m\u001b[0merrors\u001b[0m\u001b[0;34m)\u001b[0m\u001b[0;34m\u001b[0m\u001b[0;34m\u001b[0m\u001b[0m\n\u001b[0m\u001b[1;32m   3922\u001b[0m             \u001b[0mresult\u001b[0m \u001b[0;34m=\u001b[0m \u001b[0mself\u001b[0m\u001b[0;34m.\u001b[0m\u001b[0mreindex\u001b[0m\u001b[0;34m(\u001b[0m\u001b[0;34m**\u001b[0m\u001b[0;34m{\u001b[0m\u001b[0maxis_name\u001b[0m\u001b[0;34m:\u001b[0m \u001b[0mnew_axis\u001b[0m\u001b[0;34m}\u001b[0m\u001b[0;34m)\u001b[0m\u001b[0;34m\u001b[0m\u001b[0;34m\u001b[0m\u001b[0m\n\u001b[1;32m   3923\u001b[0m \u001b[0;34m\u001b[0m\u001b[0m\n",
      "\u001b[0;32m~/opt/anaconda3/lib/python3.8/site-packages/pandas/core/indexes/base.py\u001b[0m in \u001b[0;36mdrop\u001b[0;34m(self, labels, errors)\u001b[0m\n\u001b[1;32m   5280\u001b[0m         \u001b[0;32mif\u001b[0m \u001b[0mmask\u001b[0m\u001b[0;34m.\u001b[0m\u001b[0many\u001b[0m\u001b[0;34m(\u001b[0m\u001b[0;34m)\u001b[0m\u001b[0;34m:\u001b[0m\u001b[0;34m\u001b[0m\u001b[0;34m\u001b[0m\u001b[0m\n\u001b[1;32m   5281\u001b[0m             \u001b[0;32mif\u001b[0m \u001b[0merrors\u001b[0m \u001b[0;34m!=\u001b[0m \u001b[0;34m\"ignore\"\u001b[0m\u001b[0;34m:\u001b[0m\u001b[0;34m\u001b[0m\u001b[0;34m\u001b[0m\u001b[0m\n\u001b[0;32m-> 5282\u001b[0;31m                 \u001b[0;32mraise\u001b[0m \u001b[0mKeyError\u001b[0m\u001b[0;34m(\u001b[0m\u001b[0;34mf\"{labels[mask]} not found in axis\"\u001b[0m\u001b[0;34m)\u001b[0m\u001b[0;34m\u001b[0m\u001b[0;34m\u001b[0m\u001b[0m\n\u001b[0m\u001b[1;32m   5283\u001b[0m             \u001b[0mindexer\u001b[0m \u001b[0;34m=\u001b[0m \u001b[0mindexer\u001b[0m\u001b[0;34m[\u001b[0m\u001b[0;34m~\u001b[0m\u001b[0mmask\u001b[0m\u001b[0;34m]\u001b[0m\u001b[0;34m\u001b[0m\u001b[0;34m\u001b[0m\u001b[0m\n\u001b[1;32m   5284\u001b[0m         \u001b[0;32mreturn\u001b[0m \u001b[0mself\u001b[0m\u001b[0;34m.\u001b[0m\u001b[0mdelete\u001b[0m\u001b[0;34m(\u001b[0m\u001b[0mindexer\u001b[0m\u001b[0;34m)\u001b[0m\u001b[0;34m\u001b[0m\u001b[0;34m\u001b[0m\u001b[0m\n",
      "\u001b[0;31mKeyError\u001b[0m: \"['Unnamed: 0' 'pkts' 'bytes' 'dur' 'total_dur' 'spkts' 'dpkts' 'sbytes'\\n 'dbytes' 'rate' 'TnBPSrcIP' 'TnBPDstIP' 'TnP_PSrcIP' 'TnP_PDstIP'\\n 'TnP_PerProto' 'TnP_Per_Dport' 'AR_P_Proto_P_SrcIP' 'AR_P_Proto_P_DstIP'\\n 'AR_P_Proto_P_Sport' 'AR_P_Proto_P_Dport'\\n 'Pkts_P_State_P_Protocol_P_DestIP' 'Pkts_P_State_P_Protocol_P_SrcIP'\\n 'N_IN_Conn_P_SrcIP' 'N_IN_Conn_P_DstIP'] not found in axis\""
     ]
    }
   ],
   "source": [
    "df.drop([ 'Unnamed: 0', 'pkts', 'bytes', 'dur', \n",
    "       'total_dur',  'spkts', 'dpkts', 'sbytes', 'dbytes',\n",
    "       'rate', 'TnBPSrcIP', 'TnBPDstIP', 'TnP_PSrcIP',\n",
    "       'TnP_PDstIP', 'TnP_PerProto', 'TnP_Per_Dport', 'AR_P_Proto_P_SrcIP',\n",
    "       'AR_P_Proto_P_DstIP', \n",
    "       'AR_P_Proto_P_Sport', 'AR_P_Proto_P_Dport',\n",
    "       'Pkts_P_State_P_Protocol_P_DestIP', 'Pkts_P_State_P_Protocol_P_SrcIP','N_IN_Conn_P_SrcIP','N_IN_Conn_P_DstIP'],axis=1,inplace=True)"
   ]
  },
  {
   "cell_type": "code",
   "execution_count": 27,
   "metadata": {
    "colab": {},
    "colab_type": "code",
    "id": "7McXAJU-B5OJ"
   },
   "outputs": [],
   "source": [
    "df.to_csv(r'dataset_ddos_six.csv')"
   ]
  },
  {
   "cell_type": "markdown",
   "metadata": {
    "colab_type": "text",
    "id": "ASmcr4G1Wlnz"
   },
   "source": [
    "## Getting genral idea about the weight of available classification packets."
   ]
  },
  {
   "cell_type": "markdown",
   "metadata": {
    "colab_type": "text",
    "id": "j8XjHHFUbd4t"
   },
   "source": []
  },
  {
   "cell_type": "code",
   "execution_count": 32,
   "metadata": {
    "colab": {
     "base_uri": "https://localhost:8080/",
     "height": 363
    },
    "colab_type": "code",
    "id": "ILzX8RoAJ6vd",
    "outputId": "75487662-7b47-41bf-9c50-3a3106242b89"
   },
   "outputs": [
    {
     "data": {
      "text/html": [
       "<div>\n",
       "<style scoped>\n",
       "    .dataframe tbody tr th:only-of-type {\n",
       "        vertical-align: middle;\n",
       "    }\n",
       "\n",
       "    .dataframe tbody tr th {\n",
       "        vertical-align: top;\n",
       "    }\n",
       "\n",
       "    .dataframe thead th {\n",
       "        text-align: right;\n",
       "    }\n",
       "</style>\n",
       "<table border=\"1\" class=\"dataframe\">\n",
       "  <thead>\n",
       "    <tr style=\"text-align: right;\">\n",
       "      <th></th>\n",
       "      <th>average_dur</th>\n",
       "      <th>stddev_dur</th>\n",
       "      <th>min_dur</th>\n",
       "      <th>max_dur</th>\n",
       "      <th>srate</th>\n",
       "      <th>drate</th>\n",
       "      <th>attack</th>\n",
       "    </tr>\n",
       "  </thead>\n",
       "  <tbody>\n",
       "    <tr>\n",
       "      <th>0</th>\n",
       "      <td>0.679473</td>\n",
       "      <td>0.544126</td>\n",
       "      <td>0.135347</td>\n",
       "      <td>1.223599</td>\n",
       "      <td>0.780467</td>\n",
       "      <td>0.468280</td>\n",
       "      <td>1</td>\n",
       "    </tr>\n",
       "    <tr>\n",
       "      <th>1</th>\n",
       "      <td>0.679572</td>\n",
       "      <td>0.544197</td>\n",
       "      <td>0.135375</td>\n",
       "      <td>1.223769</td>\n",
       "      <td>0.780536</td>\n",
       "      <td>0.468322</td>\n",
       "      <td>1</td>\n",
       "    </tr>\n",
       "    <tr>\n",
       "      <th>2</th>\n",
       "      <td>1.110847</td>\n",
       "      <td>1.110847</td>\n",
       "      <td>0.000000</td>\n",
       "      <td>2.221694</td>\n",
       "      <td>0.624899</td>\n",
       "      <td>0.900214</td>\n",
       "      <td>1</td>\n",
       "    </tr>\n",
       "    <tr>\n",
       "      <th>3</th>\n",
       "      <td>1.113328</td>\n",
       "      <td>1.113328</td>\n",
       "      <td>0.000000</td>\n",
       "      <td>2.226655</td>\n",
       "      <td>0.624931</td>\n",
       "      <td>0.898208</td>\n",
       "      <td>1</td>\n",
       "    </tr>\n",
       "    <tr>\n",
       "      <th>4</th>\n",
       "      <td>1.113098</td>\n",
       "      <td>1.113098</td>\n",
       "      <td>0.000000</td>\n",
       "      <td>2.226195</td>\n",
       "      <td>0.624954</td>\n",
       "      <td>0.898394</td>\n",
       "      <td>1</td>\n",
       "    </tr>\n",
       "    <tr>\n",
       "      <th>5</th>\n",
       "      <td>1.113392</td>\n",
       "      <td>1.113392</td>\n",
       "      <td>0.000000</td>\n",
       "      <td>2.226783</td>\n",
       "      <td>0.624985</td>\n",
       "      <td>0.898157</td>\n",
       "      <td>1</td>\n",
       "    </tr>\n",
       "    <tr>\n",
       "      <th>6</th>\n",
       "      <td>1.612942</td>\n",
       "      <td>1.612942</td>\n",
       "      <td>0.000000</td>\n",
       "      <td>3.225885</td>\n",
       "      <td>0.625035</td>\n",
       "      <td>0.619985</td>\n",
       "      <td>1</td>\n",
       "    </tr>\n",
       "    <tr>\n",
       "      <th>7</th>\n",
       "      <td>1.613153</td>\n",
       "      <td>1.613153</td>\n",
       "      <td>0.000000</td>\n",
       "      <td>3.226305</td>\n",
       "      <td>0.625056</td>\n",
       "      <td>0.619904</td>\n",
       "      <td>1</td>\n",
       "    </tr>\n",
       "    <tr>\n",
       "      <th>8</th>\n",
       "      <td>1.611953</td>\n",
       "      <td>1.611953</td>\n",
       "      <td>0.000000</td>\n",
       "      <td>3.223905</td>\n",
       "      <td>0.625353</td>\n",
       "      <td>0.620366</td>\n",
       "      <td>1</td>\n",
       "    </tr>\n",
       "    <tr>\n",
       "      <th>9</th>\n",
       "      <td>1.612818</td>\n",
       "      <td>1.612818</td>\n",
       "      <td>0.000000</td>\n",
       "      <td>3.225637</td>\n",
       "      <td>0.625374</td>\n",
       "      <td>0.620033</td>\n",
       "      <td>1</td>\n",
       "    </tr>\n",
       "  </tbody>\n",
       "</table>\n",
       "</div>"
      ],
      "text/plain": [
       "   average_dur  stddev_dur   min_dur   max_dur     srate     drate  attack\n",
       "0     0.679473    0.544126  0.135347  1.223599  0.780467  0.468280       1\n",
       "1     0.679572    0.544197  0.135375  1.223769  0.780536  0.468322       1\n",
       "2     1.110847    1.110847  0.000000  2.221694  0.624899  0.900214       1\n",
       "3     1.113328    1.113328  0.000000  2.226655  0.624931  0.898208       1\n",
       "4     1.113098    1.113098  0.000000  2.226195  0.624954  0.898394       1\n",
       "5     1.113392    1.113392  0.000000  2.226783  0.624985  0.898157       1\n",
       "6     1.612942    1.612942  0.000000  3.225885  0.625035  0.619985       1\n",
       "7     1.613153    1.613153  0.000000  3.226305  0.625056  0.619904       1\n",
       "8     1.611953    1.611953  0.000000  3.223905  0.625353  0.620366       1\n",
       "9     1.612818    1.612818  0.000000  3.225637  0.625374  0.620033       1"
      ]
     },
     "execution_count": 32,
     "metadata": {},
     "output_type": "execute_result"
    }
   ],
   "source": [
    "df.head(10)"
   ]
  },
  {
   "cell_type": "code",
   "execution_count": 34,
   "metadata": {
    "colab": {
     "base_uri": "https://localhost:8080/",
     "height": 424
    },
    "colab_type": "code",
    "id": "ZwlYBapFVWDU",
    "outputId": "d71ea476-86d7-48a5-a1b9-86c561156307"
   },
   "outputs": [
    {
     "data": {
      "text/html": [
       "<div>\n",
       "<style scoped>\n",
       "    .dataframe tbody tr th:only-of-type {\n",
       "        vertical-align: middle;\n",
       "    }\n",
       "\n",
       "    .dataframe tbody tr th {\n",
       "        vertical-align: top;\n",
       "    }\n",
       "\n",
       "    .dataframe thead th {\n",
       "        text-align: right;\n",
       "    }\n",
       "</style>\n",
       "<table border=\"1\" class=\"dataframe\">\n",
       "  <thead>\n",
       "    <tr style=\"text-align: right;\">\n",
       "      <th></th>\n",
       "      <th>average_dur</th>\n",
       "      <th>stddev_dur</th>\n",
       "      <th>min_dur</th>\n",
       "      <th>max_dur</th>\n",
       "      <th>srate</th>\n",
       "      <th>drate</th>\n",
       "      <th>attack</th>\n",
       "    </tr>\n",
       "  </thead>\n",
       "  <tbody>\n",
       "    <tr>\n",
       "      <th>1926608</th>\n",
       "      <td>0.000006</td>\n",
       "      <td>0.000002</td>\n",
       "      <td>0.000004</td>\n",
       "      <td>0.000007</td>\n",
       "      <td>0.000836</td>\n",
       "      <td>0.000836</td>\n",
       "      <td>0</td>\n",
       "    </tr>\n",
       "    <tr>\n",
       "      <th>1926609</th>\n",
       "      <td>0.000028</td>\n",
       "      <td>0.000008</td>\n",
       "      <td>0.000022</td>\n",
       "      <td>0.000042</td>\n",
       "      <td>0.002751</td>\n",
       "      <td>0.002751</td>\n",
       "      <td>0</td>\n",
       "    </tr>\n",
       "    <tr>\n",
       "      <th>1926610</th>\n",
       "      <td>0.048565</td>\n",
       "      <td>0.000000</td>\n",
       "      <td>0.048565</td>\n",
       "      <td>0.048565</td>\n",
       "      <td>0.000000</td>\n",
       "      <td>0.000000</td>\n",
       "      <td>0</td>\n",
       "    </tr>\n",
       "    <tr>\n",
       "      <th>1926611</th>\n",
       "      <td>0.000238</td>\n",
       "      <td>0.000022</td>\n",
       "      <td>0.000199</td>\n",
       "      <td>0.000261</td>\n",
       "      <td>0.002751</td>\n",
       "      <td>0.002751</td>\n",
       "      <td>0</td>\n",
       "    </tr>\n",
       "    <tr>\n",
       "      <th>1926612</th>\n",
       "      <td>0.098505</td>\n",
       "      <td>0.080150</td>\n",
       "      <td>0.018356</td>\n",
       "      <td>0.178655</td>\n",
       "      <td>0.001755</td>\n",
       "      <td>0.001755</td>\n",
       "      <td>0</td>\n",
       "    </tr>\n",
       "    <tr>\n",
       "      <th>...</th>\n",
       "      <td>...</td>\n",
       "      <td>...</td>\n",
       "      <td>...</td>\n",
       "      <td>...</td>\n",
       "      <td>...</td>\n",
       "      <td>...</td>\n",
       "      <td>...</td>\n",
       "    </tr>\n",
       "    <tr>\n",
       "      <th>1927080</th>\n",
       "      <td>0.293476</td>\n",
       "      <td>0.000000</td>\n",
       "      <td>0.293476</td>\n",
       "      <td>0.293476</td>\n",
       "      <td>0.000000</td>\n",
       "      <td>0.000000</td>\n",
       "      <td>0</td>\n",
       "    </tr>\n",
       "    <tr>\n",
       "      <th>1927081</th>\n",
       "      <td>0.292003</td>\n",
       "      <td>0.000000</td>\n",
       "      <td>0.292003</td>\n",
       "      <td>0.292003</td>\n",
       "      <td>0.000000</td>\n",
       "      <td>0.000000</td>\n",
       "      <td>0</td>\n",
       "    </tr>\n",
       "    <tr>\n",
       "      <th>1927082</th>\n",
       "      <td>0.277896</td>\n",
       "      <td>0.000000</td>\n",
       "      <td>0.277896</td>\n",
       "      <td>0.277896</td>\n",
       "      <td>0.000000</td>\n",
       "      <td>0.000000</td>\n",
       "      <td>0</td>\n",
       "    </tr>\n",
       "    <tr>\n",
       "      <th>1927083</th>\n",
       "      <td>0.280742</td>\n",
       "      <td>0.000000</td>\n",
       "      <td>0.280742</td>\n",
       "      <td>0.280742</td>\n",
       "      <td>0.000000</td>\n",
       "      <td>0.000000</td>\n",
       "      <td>0</td>\n",
       "    </tr>\n",
       "    <tr>\n",
       "      <th>1927084</th>\n",
       "      <td>0.280513</td>\n",
       "      <td>0.000000</td>\n",
       "      <td>0.280513</td>\n",
       "      <td>0.280513</td>\n",
       "      <td>0.000000</td>\n",
       "      <td>0.000000</td>\n",
       "      <td>0</td>\n",
       "    </tr>\n",
       "  </tbody>\n",
       "</table>\n",
       "<p>477 rows × 7 columns</p>\n",
       "</div>"
      ],
      "text/plain": [
       "         average_dur  stddev_dur   min_dur   max_dur     srate     drate  \\\n",
       "1926608     0.000006    0.000002  0.000004  0.000007  0.000836  0.000836   \n",
       "1926609     0.000028    0.000008  0.000022  0.000042  0.002751  0.002751   \n",
       "1926610     0.048565    0.000000  0.048565  0.048565  0.000000  0.000000   \n",
       "1926611     0.000238    0.000022  0.000199  0.000261  0.002751  0.002751   \n",
       "1926612     0.098505    0.080150  0.018356  0.178655  0.001755  0.001755   \n",
       "...              ...         ...       ...       ...       ...       ...   \n",
       "1927080     0.293476    0.000000  0.293476  0.293476  0.000000  0.000000   \n",
       "1927081     0.292003    0.000000  0.292003  0.292003  0.000000  0.000000   \n",
       "1927082     0.277896    0.000000  0.277896  0.277896  0.000000  0.000000   \n",
       "1927083     0.280742    0.000000  0.280742  0.280742  0.000000  0.000000   \n",
       "1927084     0.280513    0.000000  0.280513  0.280513  0.000000  0.000000   \n",
       "\n",
       "         attack  \n",
       "1926608       0  \n",
       "1926609       0  \n",
       "1926610       0  \n",
       "1926611       0  \n",
       "1926612       0  \n",
       "...         ...  \n",
       "1927080       0  \n",
       "1927081       0  \n",
       "1927082       0  \n",
       "1927083       0  \n",
       "1927084       0  \n",
       "\n",
       "[477 rows x 7 columns]"
      ]
     },
     "execution_count": 34,
     "metadata": {},
     "output_type": "execute_result"
    }
   ],
   "source": [
    "df[df.attack == 0]"
   ]
  },
  {
   "cell_type": "code",
   "execution_count": 9,
   "metadata": {
    "colab": {
     "base_uri": "https://localhost:8080/",
     "height": 343
    },
    "colab_type": "code",
    "id": "gq1OUFUMmbxT",
    "outputId": "1e7244e4-b2b9-4d57-f3f6-550ee1ce9cfa"
   },
   "outputs": [
    {
     "data": {
      "text/plain": [
       "1    1926608\n",
       "0        477\n",
       "Name: attack, dtype: int64"
      ]
     },
     "execution_count": 9,
     "metadata": {},
     "output_type": "execute_result"
    },
    {
     "data": {
      "image/png": "[encoded data removed]",
      "text/plain": [
       "<Figure size 432x288 with 1 Axes>"
      ]
     },
     "metadata": {
      "needs_background": "light"
     },
     "output_type": "display_data"
    }
   ],
   "source": [
    "pd.value_counts(df['attack']).plot.bar()\n",
    "plt.title('Attack histogram')\n",
    "plt.xlabel('attack')\n",
    "plt.ylabel('Value')\n",
    "df['attack'].value_counts()"
   ]
  },
  {
   "cell_type": "markdown",
   "metadata": {
    "colab_type": "text",
    "id": "h6Pf_-VcWloC"
   },
   "source": [
    " #### Here we can find that there is a lot of imbalance in the dataset, so we can tell the data is highly-imballanced. Thus we need to synthtically oversample the minority class to get a balanced dataset for training and testing."
   ]
  },
  {
   "cell_type": "markdown",
   "metadata": {
    "colab_type": "text",
    "id": "RCg4KirBWloC"
   },
   "source": [
    "## Defining some methods which are later used:"
   ]
  },
  {
   "cell_type": "code",
   "execution_count": 16,
   "metadata": {
    "colab": {},
    "colab_type": "code",
    "id": "qD0Yxvv2qQGR"
   },
   "outputs": [],
   "source": [
    "# Used to plot the roc curve.\n",
    "def plot_roc_curve(fpr, tpr):\n",
    "    plt.plot(fpr, tpr, color='orange', label='ROC')\n",
    "    plt.plot([0, 1], [0, 1], color='darkblue', linestyle='--')\n",
    "    plt.xlabel('False Positive Rate')\n",
    "    plt.ylabel('True Positive Rate')\n",
    "    plt.title('Receiver Operating Characteristic (ROC) Curve')\n",
    "    plt.legend()\n",
    "    plt.show()\n",
    "    \n",
    "# Used for classification of dataset.\n",
    "def classif_results(): \n",
    "  conf_mat = confusion_matrix(y_true=y_test, y_pred=y_pred)\n",
    "  print('Confusion matrix:\\n', conf_mat)\n",
    "\n",
    "  labels = ['Class 0', 'Class 1']\n",
    "  fig = plt.figure()\n",
    "  ax = fig.add_subplot(111)\n",
    "  cax = ax.matshow(conf_mat, cmap=plt.cm.Blues)\n",
    "  fig.colorbar(cax)\n",
    "  ax.set_xticklabels([''] + labels)\n",
    "  ax.set_yticklabels([''] + labels)\n",
    "  plt.xlabel('Predicted')\n",
    "  plt.ylabel('Expected')\n",
    "  plt.show()\n",
    "\n",
    "  print(\"Accuracy\", metrics.accuracy_score(y_test, y_pred))\n",
    "\n",
    "  from sklearn.metrics import classification_report\n",
    "  print(classification_report(y_test, y_pred))\n",
    "\n",
    "\n",
    "  auc = roc_auc_score(y_test, y_pred)\n",
    "  print(\"AUC Score: \")\n",
    "  print(auc)\n",
    "\n",
    "  fpr, tpr, thresholds = roc_curve(y_test, y_pred)\n",
    "  plot_roc_curve(fpr, tpr)\n",
    "\n",
    "# Used for splitting and normalizing dataset.\n",
    "def test_scale():\n",
    "  from sklearn.model_selection import train_test_split\n",
    "  X_train, X_test, y_train, y_test = train_test_split(X, y, test_size = 0.4, random_state = 0)\n",
    "\n",
    "  from sklearn.preprocessing import StandardScaler\n",
    "  sc_X = StandardScaler()\n",
    "  X_train = sc_X.fit_transform(X_train)\n",
    "  X_test = sc_X.transform(X_test)"
   ]
  },
  {
   "cell_type": "markdown",
   "metadata": {
    "colab_type": "text",
    "id": "8_F_K1RnWloI"
   },
   "source": [
    "### Here, we are applying SMOTE method, and applying it to dataset. We use the daataset by applying attack packets to X and normal to Y and oversample Y sythetically to length of X"
   ]
  },
  {
   "cell_type": "code",
   "execution_count": 12,
   "metadata": {
    "colab": {
     "base_uri": "https://localhost:8080/",
     "height": 105
    },
    "colab_type": "code",
    "id": "4I_gzBXwBJTp",
    "outputId": "01b3cf73-5be0-49c1-fe3c-786ea1148405"
   },
   "outputs": [],
   "source": [
    "X = df.iloc[:, df.columns != 'attack']\n",
    "y = df.iloc[:, df.columns == 'attack']\n",
    "X, y = SMOTE().fit_resample(X, y)"
   ]
  },
  {
   "cell_type": "code",
   "execution_count": 13,
   "metadata": {
    "colab": {},
    "colab_type": "code",
    "id": "FCCKBLFBeK98"
   },
   "outputs": [],
   "source": [
    "from sklearn.model_selection import train_test_split\n",
    "X_train, X_test, y_train, y_test = train_test_split(X, y, test_size = 0.4, random_state = 0)\n",
    "\n",
    "from sklearn.preprocessing import StandardScaler\n",
    "sc_X = StandardScaler()\n",
    "X_train = sc_X.fit_transform(X_train)\n",
    "X_test = sc_X.transform(X_test)"
   ]
  },
  {
   "cell_type": "markdown",
   "metadata": {
    "colab_type": "text",
    "id": "WaBPuri0Sk4O"
   },
   "source": [
    "# Logistic Regression:\n"
   ]
  },
  {
   "cell_type": "code",
   "execution_count": 14,
   "metadata": {
    "colab": {},
    "colab_type": "code",
    "id": "ZCxyQRcQNnbB"
   },
   "outputs": [
    {
     "name": "stderr",
     "output_type": "stream",
     "text": [
      "/Users/rahulbanerjee/opt/anaconda3/lib/python3.8/site-packages/sklearn/utils/validation.py:985: DataConversionWarning: A column-vector y was passed when a 1d array was expected. Please change the shape of y to (n_samples, ), for example using ravel().\n",
      "  y = column_or_1d(y, warn=True)\n"
     ]
    }
   ],
   "source": [
    "\n",
    "from sklearn.linear_model import LogisticRegression \n",
    "classifier = LogisticRegression()\n",
    "classifier.fit(X_train,y_train)\n",
    "\n",
    "y_pred = classifier.predict(X_test)\n"
   ]
  },
  {
   "cell_type": "code",
   "execution_count": 17,
   "metadata": {
    "colab": {
     "base_uri": "https://localhost:8080/",
     "height": 818
    },
    "colab_type": "code",
    "id": "zq3cY5zdNAij",
    "outputId": "d4fbb098-274a-43e4-a525-8baa62c7ea93"
   },
   "outputs": [
    {
     "name": "stdout",
     "output_type": "stream",
     "text": [
      "Confusion matrix:\n",
      " [[771384      0]\n",
      " [     5 769898]]\n"
     ]
    },
    {
     "name": "stderr",
     "output_type": "stream",
     "text": [
      "<ipython-input-16-531eb6d9f575>:21: UserWarning: FixedFormatter should only be used together with FixedLocator\n",
      "  ax.set_xticklabels([''] + labels)\n",
      "<ipython-input-16-531eb6d9f575>:22: UserWarning: FixedFormatter should only be used together with FixedLocator\n",
      "  ax.set_yticklabels([''] + labels)\n"
     ]
    },
    {
     "data": {
      "image/png": "[encoded data removed]",
      "text/plain": [
       "<Figure size 432x288 with 2 Axes>"
      ]
     },
     "metadata": {
      "needs_background": "light"
     },
     "output_type": "display_data"
    },
    {
     "name": "stdout",
     "output_type": "stream",
     "text": [
      "Accuracy 0.9999967559578457\n",
      "              precision    recall  f1-score   support\n",
      "\n",
      "           0       1.00      1.00      1.00    771384\n",
      "           1       1.00      1.00      1.00    769903\n",
      "\n",
      "    accuracy                           1.00   1541287\n",
      "   macro avg       1.00      1.00      1.00   1541287\n",
      "weighted avg       1.00      1.00      1.00   1541287\n",
      "\n",
      "AUC Score: \n",
      "0.9999967528376952\n"
     ]
    },
    {
     "data": {
      "image/png": "[encoded data removed]",
      "text/plain": [
       "<Figure size 432x288 with 1 Axes>"
      ]
     },
     "metadata": {
      "needs_background": "light"
     },
     "output_type": "display_data"
    }
   ],
   "source": [
    "classif_results()"
   ]
  },
  {
   "cell_type": "code",
   "execution_count": 0,
   "metadata": {
    "colab": {},
    "colab_type": "code",
    "id": "1_oX5TSiZlYN"
   },
   "outputs": [],
   "source": []
  },
  {
   "cell_type": "markdown",
   "metadata": {
    "colab_type": "text",
    "id": "XgAdLKxwYz4a"
   },
   "source": [
    "# Decision Trees"
   ]
  },
  {
   "cell_type": "code",
   "execution_count": 18,
   "metadata": {
    "colab": {},
    "colab_type": "code",
    "id": "u8Eq9ptJY17w"
   },
   "outputs": [],
   "source": [
    "test_scale()\n",
    "\n",
    "from sklearn.tree import DecisionTreeClassifier\n",
    "classifier = DecisionTreeClassifier()\n",
    "classifier.fit(X_train,y_train)\n",
    "\n",
    "y_pred = classifier.predict(X_test)\n",
    "\n"
   ]
  },
  {
   "cell_type": "code",
   "execution_count": 0,
   "metadata": {
    "colab": {
     "base_uri": "https://localhost:8080/",
     "height": 818
    },
    "colab_type": "code",
    "id": "mc1cZCHAY1-0",
    "outputId": "ee8045ca-21f7-4b70-c064-466efe83f436"
   },
   "outputs": [
    {
     "name": "stdout",
     "output_type": "stream",
     "text": [
      "Confusion matrix:\n",
      " [[771563     11]\n",
      " [ 34080 735646]]\n"
     ]
    },
    {
     "data": {
      "image/png": "[encoded data removed]",
      "text/plain": [
       "<Figure size 432x288 with 2 Axes>"
      ]
     },
     "metadata": {
      "needs_background": "light",
      "tags": []
     },
     "output_type": "display_data"
    },
    {
     "name": "stdout",
     "output_type": "stream",
     "text": [
      "Accuracy 0.977881658340362\n",
      "              precision    recall  f1-score   support\n",
      "\n",
      "           0       0.96      1.00      0.98    771574\n",
      "           1       1.00      0.96      0.98    769726\n",
      "\n",
      "    accuracy                           0.98   1541300\n",
      "   macro avg       0.98      0.98      0.98   1541300\n",
      "weighted avg       0.98      0.98      0.98   1541300\n",
      "\n",
      "AUC Score: \n",
      "0.9778551239961651\n"
     ]
    },
    {
     "data": {
      "image/png": "[encoded data removed]",
      "text/plain": [
       "<Figure size 432x288 with 1 Axes>"
      ]
     },
     "metadata": {
      "needs_background": "light",
      "tags": []
     },
     "output_type": "display_data"
    }
   ],
   "source": [
    "classif_results()"
   ]
  },
  {
   "cell_type": "code",
   "execution_count": 0,
   "metadata": {
    "colab": {},
    "colab_type": "code",
    "id": "4U1rSQSJY2Bq"
   },
   "outputs": [],
   "source": []
  },
  {
   "cell_type": "markdown",
   "metadata": {
    "colab_type": "text",
    "id": "F7eoKyO8gvU0"
   },
   "source": [
    "# Random Forest:"
   ]
  },
  {
   "cell_type": "code",
   "execution_count": 20,
   "metadata": {
    "colab": {},
    "colab_type": "code",
    "id": "v0xYdJZGgugZ"
   },
   "outputs": [
    {
     "ename": "SyntaxError",
     "evalue": "Missing parentheses in call to 'print'. Did you mean print(y_pred)? (<ipython-input-20-05aaf094fe42>, line 9)",
     "output_type": "error",
     "traceback": [
      "\u001b[0;36m  File \u001b[0;32m\"<ipython-input-20-05aaf094fe42>\"\u001b[0;36m, line \u001b[0;32m9\u001b[0m\n\u001b[0;31m    print y_pred\u001b[0m\n\u001b[0m          ^\u001b[0m\n\u001b[0;31mSyntaxError\u001b[0m\u001b[0;31m:\u001b[0m Missing parentheses in call to 'print'. Did you mean print(y_pred)?\n"
     ]
    }
   ],
   "source": [
    "\n",
    "\n",
    "test_scale()\n",
    "\n",
    "from sklearn.ensemble import RandomForestClassifier\n",
    "classifier = RandomForestClassifier()\n",
    "classifier.fit(X_train, y_train)\n",
    "\n",
    "\n",
    "y_pred = classifier.predict(X_test)\n",
    "print y_pred\n"
   ]
  },
  {
   "cell_type": "code",
   "execution_count": 0,
   "metadata": {
    "colab": {
     "base_uri": "https://localhost:8080/",
     "height": 818
    },
    "colab_type": "code",
    "id": "SxnUXQK6gulj",
    "outputId": "c7967cc6-be1a-43b0-a059-3985e1ae34dd"
   },
   "outputs": [
    {
     "name": "stdout",
     "output_type": "stream",
     "text": [
      "Confusion matrix:\n",
      " [[771567      7]\n",
      " [ 33836 735890]]\n"
     ]
    },
    {
     "data": {
      "image/png": "[encoded data removed]",
      "text/plain": [
       "<Figure size 432x288 with 2 Axes>"
      ]
     },
     "metadata": {
      "needs_background": "light",
      "tags": []
     },
     "output_type": "display_data"
    },
    {
     "name": "stdout",
     "output_type": "stream",
     "text": [
      "Accuracy 0.9780425614740803\n",
      "              precision    recall  f1-score   support\n",
      "\n",
      "           0       0.96      1.00      0.98    771574\n",
      "           1       1.00      0.96      0.98    769726\n",
      "\n",
      "    accuracy                           0.98   1541300\n",
      "   macro avg       0.98      0.98      0.98   1541300\n",
      "weighted avg       0.98      0.98      0.98   1541300\n",
      "\n",
      "AUC Score: \n",
      "0.978016214059112\n"
     ]
    },
    {
     "data": {
      "image/png": "[encoded data removed]",
      "text/plain": [
       "<Figure size 432x288 with 1 Axes>"
      ]
     },
     "metadata": {
      "needs_background": "light",
      "tags": []
     },
     "output_type": "display_data"
    }
   ],
   "source": [
    "classif_results()"
   ]
  },
  {
   "cell_type": "code",
   "execution_count": 0,
   "metadata": {
    "colab": {},
    "colab_type": "code",
    "id": "Q7-wWafQguo8"
   },
   "outputs": [],
   "source": []
  },
  {
   "cell_type": "markdown",
   "metadata": {
    "colab_type": "text",
    "id": "k3RQYB8WSSSY"
   },
   "source": [
    "# KNN"
   ]
  },
  {
   "cell_type": "code",
   "execution_count": 0,
   "metadata": {
    "colab": {},
    "colab_type": "code",
    "id": "uJNUH0aVSd4P"
   },
   "outputs": [],
   "source": [
    "test_scale()\n",
    "\n",
    "\n",
    "from sklearn.neighbors import KNeighborsClassifier\n",
    "classifier = KNeighborsClassifier()\n",
    "classifier.fit(X_train,y_train)\n",
    "\n",
    "y_pred = classifier.predict(X_test)\n",
    "\n",
    "from sklearn.metrics import confusion_matrix\n",
    "cm = confusion_matrix(y_test,y_pred)"
   ]
  },
  {
   "cell_type": "code",
   "execution_count": 0,
   "metadata": {
    "colab": {
     "base_uri": "https://localhost:8080/",
     "height": 818
    },
    "colab_type": "code",
    "id": "UPjbK4lIV__f",
    "outputId": "1d4c327e-8261-4214-b783-fc0876cf08ef"
   },
   "outputs": [
    {
     "name": "stdout",
     "output_type": "stream",
     "text": [
      "Confusion matrix:\n",
      " [[771526     48]\n",
      " [ 33964 735762]]\n"
     ]
    },
    {
     "data": {
      "image/png": "[encoded data removed]",
      "text/plain": [
       "<Figure size 432x288 with 2 Axes>"
      ]
     },
     "metadata": {
      "needs_background": "light",
      "tags": []
     },
     "output_type": "display_data"
    },
    {
     "name": "stdout",
     "output_type": "stream",
     "text": [
      "Accuracy 0.9779329137740869\n",
      "              precision    recall  f1-score   support\n",
      "\n",
      "           0       0.96      1.00      0.98    771574\n",
      "           1       1.00      0.96      0.98    769726\n",
      "\n",
      "    accuracy                           0.98   1541300\n",
      "   macro avg       0.98      0.98      0.98   1541300\n",
      "weighted avg       0.98      0.98      0.98   1541300\n",
      "\n",
      "AUC Score: \n",
      "0.9779064985234964\n"
     ]
    },
    {
     "data": {
      "image/png": "[encoded data removed]",
      "text/plain": [
       "<Figure size 432x288 with 1 Axes>"
      ]
     },
     "metadata": {
      "needs_background": "light",
      "tags": []
     },
     "output_type": "display_data"
    }
   ],
   "source": [
    "classif_results()"
   ]
  },
  {
   "cell_type": "code",
   "execution_count": 0,
   "metadata": {
    "colab": {},
    "colab_type": "code",
    "id": "RtcmLQ1rVewF"
   },
   "outputs": [],
   "source": []
  },
  {
   "cell_type": "markdown",
   "metadata": {
    "colab_type": "text",
    "id": "Q802V5OiXG8F"
   },
   "source": [
    "# Support Vector Machines:"
   ]
  },
  {
   "cell_type": "code",
   "execution_count": 0,
   "metadata": {
    "colab": {},
    "colab_type": "code",
    "id": "dZB9pl0bVwwU"
   },
   "outputs": [],
   "source": [
    "test_scale()\n",
    "\n",
    "# Fitting SVM to the Training set\n",
    "from sklearn.svm import LinearSVC\n",
    "from sklearn.svm import SVC\n",
    "\n",
    "classifier = SVC()\n",
    "\n",
    "classifier.fit(X_train, y_train)\n",
    "\n",
    "\n",
    "y_pred = classifier.predict(X_test)\n",
    "\n",
    "from sklearn.metrics import confusion_matrix\n",
    "cm = confusion_matrix(y_test,y_pred)"
   ]
  },
  {
   "cell_type": "code",
   "execution_count": 0,
   "metadata": {
    "colab": {
     "base_uri": "https://localhost:8080/",
     "height": 812
    },
    "colab_type": "code",
    "id": "rBko4G0GXaw7",
    "outputId": "3345bcff-5ed3-4806-a82a-ba8f37cbbde0"
   },
   "outputs": [
    {
     "name": "stdout",
     "output_type": "stream",
     "text": [
      "Confusion matrix:\n",
      " [[754603  16971]\n",
      " [147757 621969]]\n"
     ]
    },
    {
     "data": {
      "image/png": "[encoded data removed]",
      "text/plain": [
       "<Figure size 432x288 with 2 Axes>"
      ]
     },
     "metadata": {
      "needs_background": "light",
      "tags": []
     },
     "output_type": "display_data"
    },
    {
     "name": "stdout",
     "output_type": "stream",
     "text": [
      "Accuracy 0.8931239862453773\n",
      "              precision    recall  f1-score   support\n",
      "\n",
      "           0       0.84      0.98      0.90    771574\n",
      "           1       0.97      0.81      0.88    769726\n",
      "\n",
      "    accuracy                           0.89   1541300\n",
      "   macro avg       0.90      0.89      0.89   1541300\n",
      "weighted avg       0.90      0.89      0.89   1541300\n",
      "\n",
      "AUC Score: \n",
      "0.8930220931283096\n"
     ]
    },
    {
     "data": {
      "image/png": "[encoded data removed]",
      "text/plain": [
       "<Figure size 432x288 with 1 Axes>"
      ]
     },
     "metadata": {
      "needs_background": "light",
      "tags": []
     },
     "output_type": "display_data"
    }
   ],
   "source": [
    "\n",
    "\n",
    "classif_results()"
   ]
  },
  {
   "cell_type": "code",
   "execution_count": 0,
   "metadata": {
    "colab": {},
    "colab_type": "code",
    "id": "zLo3JLgWOPQF"
   },
   "outputs": [],
   "source": []
  },
  {
   "cell_type": "markdown",
   "metadata": {
    "colab_type": "text",
    "id": "uC67IAVcYtOz"
   },
   "source": [
    "# Naive Bayes Classifier"
   ]
  },
  {
   "cell_type": "code",
   "execution_count": 0,
   "metadata": {
    "colab": {},
    "colab_type": "code",
    "id": "zBwG-YYncej7"
   },
   "outputs": [],
   "source": [
    "test_scale()\n",
    "\n",
    "# Fitting SVM to the Training set\n",
    "from sklearn.naive_bayes import GaussianNB\n",
    "\n",
    "#Create a Gaussian Classifier\n",
    "classifier = GaussianNB()\n",
    "\n",
    "# Train the model using the training sets\n",
    "classifier.fit(X_train, y_train)\n",
    "\n",
    "\n",
    "y_pred = classifier.predict(X_test)\n",
    "\n",
    "from sklearn.metrics import confusion_matrix\n",
    "cm = confusion_matrix(y_test,y_pred)"
   ]
  },
  {
   "cell_type": "code",
   "execution_count": 0,
   "metadata": {
    "colab": {
     "base_uri": "https://localhost:8080/",
     "height": 818
    },
    "colab_type": "code",
    "id": "hLkdNWmZksZC",
    "outputId": "99329095-1b27-4cf4-bc2a-6a183e78b17c"
   },
   "outputs": [
    {
     "name": "stdout",
     "output_type": "stream",
     "text": [
      "Confusion matrix:\n",
      " [[106236 665338]\n",
      " [  3371 766355]]\n"
     ]
    },
    {
     "data": {
      "image/png": "[encoded data removed]",
      "text/plain": [
       "<Figure size 432x288 with 2 Axes>"
      ]
     },
     "metadata": {
      "needs_background": "light",
      "tags": []
     },
     "output_type": "display_data"
    },
    {
     "name": "stdout",
     "output_type": "stream",
     "text": [
      "Accuracy 0.5661396223966781\n",
      "              precision    recall  f1-score   support\n",
      "\n",
      "           0       0.97      0.14      0.24    771574\n",
      "           1       0.54      1.00      0.70    769726\n",
      "\n",
      "    accuracy                           0.57   1541300\n",
      "   macro avg       0.75      0.57      0.47   1541300\n",
      "weighted avg       0.75      0.57      0.47   1541300\n",
      "\n",
      "AUC Score: \n",
      "0.5666539481112982\n"
     ]
    },
    {
     "data": {
      "image/png": "[encoded data removed]",
      "text/plain": [
       "<Figure size 432x288 with 1 Axes>"
      ]
     },
     "metadata": {
      "needs_background": "light",
      "tags": []
     },
     "output_type": "display_data"
    }
   ],
   "source": [
    "classif_results()"
   ]
  },
  {
   "cell_type": "code",
   "execution_count": 0,
   "metadata": {
    "colab": {},
    "colab_type": "code",
    "id": "M6HUBYufk7zw"
   },
   "outputs": [],
   "source": []
  },
  {
   "cell_type": "markdown",
   "metadata": {
    "colab_type": "text",
    "id": "RFhSu26Epqrp"
   },
   "source": [
    "# Neural Network"
   ]
  },
  {
   "cell_type": "code",
   "execution_count": null,
   "metadata": {
    "colab": {
     "base_uri": "https://localhost:8080/",
     "height": 121
    },
    "colab_type": "code",
    "id": "LhH1Fh49ptq6",
    "outputId": "3840b1a3-97fc-47ff-acab-59342ff8d9ee"
   },
   "outputs": [],
   "source": [
    "import keras\n",
    "from keras.models import Sequential\n",
    "from keras.layers import Dense\n",
    "\n",
    "\n",
    "classifier = Sequential()\n",
    "classifier.add(Dense(units = 6, kernel_initializer = 'uniform', activation = 'relu', input_dim = 6))\n",
    "classifier.add(Dense(units = 6, kernel_initializer = 'uniform', activation = 'relu'))\n",
    "classifier.add(Dense(units = 1, kernel_initializer = 'uniform', activation = 'sigmoid'))\n",
    "classifier.compile(optimizer = 'adam', loss = 'binary_crossentropy', metrics = ['accuracy'])\n",
    "\n",
    "\n",
    "# Fitting the ANN to the Training set\n",
    "classifier.fit(X_train, y_train, batch_size = 10, epochs = 3)\n",
    "\n",
    "# Part 3 - Making predictions and evaluating the model\n",
    "\n",
    "# Predicting the Test set results\n",
    "y_pred = classifier.predict(X_test)\n",
    "y_pred = (y_pred > 0.5)\n",
    "\n",
    "# Making the Confusion Matrix\n",
    "from sklearn.metrics import confusion_matrix\n",
    "cm = confusion_matrix(y_test, y_pred)\n"
   ]
  },
  {
   "cell_type": "code",
   "execution_count": null,
   "metadata": {
    "colab": {
     "base_uri": "https://localhost:8080/",
     "height": 818
    },
    "colab_type": "code",
    "id": "JoAWOUZNpvr2",
    "outputId": "79a20609-e458-4eb3-ac4b-2971eb131848"
   },
   "outputs": [],
   "source": [
    "classif_results()"
   ]
  },
  {
   "cell_type": "code",
   "execution_count": 0,
   "metadata": {
    "colab": {},
    "colab_type": "code",
    "id": "MszcdtWl0KcK"
   },
   "outputs": [],
   "source": []
  },
  {
   "cell_type": "code",
   "execution_count": 0,
   "metadata": {
    "colab": {},
    "colab_type": "code",
    "id": "m8XYR-eRhE5q"
   },
   "outputs": [],
   "source": []
  }
 ],
 "metadata": {
  "colab": {
   "collapsed_sections": [],
   "name": "MachineLearningCLassificationWIthBest6Features.ipynb",
   "provenance": [],
   "toc_visible": true
  },
  "kernelspec": {
   "display_name": "Python 3",
   "language": "python",
   "name": "python3"
  },
  "language_info": {
   "codemirror_mode": {
    "name": "ipython",
    "version": 3
   },
   "file_extension": ".py",
   "mimetype": "text/x-python",
   "name": "python",
   "nbconvert_exporter": "python",
   "pygments_lexer": "ipython3",
   "version": "3.8.5"
  }
 },
 "nbformat": 4,
 "nbformat_minor": 1
}
